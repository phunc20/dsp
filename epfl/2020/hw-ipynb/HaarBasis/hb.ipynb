{
 "cells": [
  {
   "cell_type": "markdown",
   "metadata": {},
   "source": [
    "# Basis for grayscale images\n",
    "\n",
    "## Introduction\n",
    "\n",
    "Consider the set of real-valued matrices of size $M\\times N$; we can turn this into a vector space by defining addition and scalar multiplication in the usual way:\n",
    "\n",
    "\\begin{align}\n",
    "\\mathbf{A} + \\mathbf{B} &=  \n",
    "    \\left[ \n",
    "        \\begin{array}{ccc} \n",
    "            a_{0,0} & \\dots & a_{0,N-1} \\\\ \n",
    "            \\vdots & & \\vdots \\\\ \n",
    "            a_{M-1,0} & \\dots & b_{M-1,N-1} \n",
    "        \\end{array}\n",
    "    \\right]\n",
    "    + \n",
    "    \\left[ \n",
    "        \\begin{array}{ccc} \n",
    "            b_{0,0} & \\dots & b_{0,N-1} \\\\ \n",
    "            \\vdots & & \\vdots \\\\ \n",
    "            b_{M-1,0} & \\dots & b_{M-1,N-1} \n",
    "        \\end{array}\n",
    "    \\right]\n",
    "    \\\\\n",
    "    &=\n",
    "    \\left[ \n",
    "        \\begin{array}{ccc} \n",
    "            a_{0,0}+b_{0,0} & \\dots & a_{0,N-1}+b_{0,N-1} \\\\ \n",
    "            \\vdots & & \\vdots \\\\ \n",
    "            a_{M-1,0}+b_{M-1,0} & \\dots & a_{M-1,N-1}+b_{M-1,N-1} \n",
    "        \\end{array}\n",
    "    \\right]     \n",
    "    \\\\ \\\\ \\\\\n",
    "\\beta\\mathbf{A} &=  \n",
    "    \\left[ \n",
    "        \\begin{array}{ccc} \n",
    "            \\beta a_{0,0} & \\dots & \\beta a_{0,N-1} \\\\ \n",
    "            \\vdots & & \\vdots \\\\ \n",
    "            \\beta a_{M-1,0} & \\dots & \\beta a_{M-1,N-1}\n",
    "        \\end{array}\n",
    "    \\right]\n",
    "\\end{align}\n",
    "\n",
    "\n",
    "As a matter of fact, the space of real-valued $M\\times N$ matrices is completely equivalent to $\\mathbb{R}^{MN}$ and we can always \"unroll\" a matrix into a vector. Assume we proceed column by column; then the matrix becomes\n",
    "\n",
    "$$\n",
    "    \\mathbf{a} = \\mathbf{A}[:] = [\n",
    "        \\begin{array}{ccccccc}\n",
    "            a_{0,0} & \\dots & a_{M-1,0} & a_{0,1} & \\dots & a_{M-1,1} & \\ldots & a_{0, N-1} & \\dots & a_{M-1,N-1}\n",
    "        \\end{array}]^T\n",
    "$$\n",
    "\n",
    "Although the matrix and vector forms represent exactly the same data, the matrix form allows us to display the data in the form of an image. Assume each value in the matrix is a grayscale intensity, where zero is black and 255 is white; for example we can create a checkerboard pattern of any size with the following function:"
   ]
  },
  {
   "cell_type": "code",
   "execution_count": 2,
   "metadata": {},
   "outputs": [
    {
     "name": "stdout",
     "output_type": "stream",
     "text": [
      "Populating the interactive namespace from numpy and matplotlib\n"
     ]
    },
    {
     "data": {
      "text/plain": [
       "<Figure size 432x288 with 0 Axes>"
      ]
     },
     "metadata": {},
     "output_type": "display_data"
    }
   ],
   "source": [
    "# usual python bookkeeping...\n",
    "%pylab inline\n",
    "import matplotlib\n",
    "import matplotlib.pyplot as plt\n",
    "import numpy as np\n",
    "import IPython\n",
    "from IPython.display import Image\n",
    "import math\n",
    "from __future__ import print_function\n",
    "\n",
    "# ensure all images will be grayscale\n",
    "gray();"
   ]
  },
  {
   "cell_type": "markdown",
   "metadata": {},
   "source": [
    "#### (?1) `gray()  # ensure all images will be grayscale`? What?"
   ]
  },
  {
   "cell_type": "markdown",
   "metadata": {},
   "source": [
    "#### (R1)"
   ]
  },
  {
   "cell_type": "code",
   "execution_count": 13,
   "metadata": {},
   "outputs": [
    {
     "data": {
      "text/plain": [
       "'matplotlib.pyplot'"
      ]
     },
     "execution_count": 13,
     "metadata": {},
     "output_type": "execute_result"
    }
   ],
   "source": [
    "gray.__module__"
   ]
  },
  {
   "cell_type": "code",
   "execution_count": 14,
   "metadata": {},
   "outputs": [
    {
     "name": "stdout",
     "output_type": "stream",
     "text": [
      "Help on function gray in module matplotlib.pyplot:\n",
      "\n",
      "gray()\n",
      "    Set the colormap to \"gray\".\n",
      "    \n",
      "    This changes the default colormap as well as the colormap of the current\n",
      "    image if there is one. See ``help(colormaps)`` for more information.\n",
      "\n"
     ]
    }
   ],
   "source": [
    "help(gray)"
   ]
  },
  {
   "cell_type": "markdown",
   "metadata": {},
   "source": [
    "#### (!1) Worth digging deep: `colormaps`"
   ]
  },
  {
   "cell_type": "code",
   "execution_count": 15,
   "metadata": {},
   "outputs": [
    {
     "name": "stdout",
     "output_type": "stream",
     "text": [
      "Help on function colormaps in module matplotlib.pyplot:\n",
      "\n",
      "colormaps()\n",
      "    Matplotlib provides a number of colormaps, and others can be added using\n",
      "    :func:`~matplotlib.cm.register_cmap`.  This function documents the built-in\n",
      "    colormaps, and will also return a list of all registered colormaps if called.\n",
      "    \n",
      "    You can set the colormap for an image, pcolor, scatter, etc,\n",
      "    using a keyword argument::\n",
      "    \n",
      "      imshow(X, cmap=cm.hot)\n",
      "    \n",
      "    or using the :func:`set_cmap` function::\n",
      "    \n",
      "      imshow(X)\n",
      "      pyplot.set_cmap('hot')\n",
      "      pyplot.set_cmap('jet')\n",
      "    \n",
      "    In interactive mode, :func:`set_cmap` will update the colormap post-hoc,\n",
      "    allowing you to see which one works best for your data.\n",
      "    \n",
      "    All built-in colormaps can be reversed by appending ``_r``: For instance,\n",
      "    ``gray_r`` is the reverse of ``gray``.\n",
      "    \n",
      "    There are several common color schemes used in visualization:\n",
      "    \n",
      "    Sequential schemes\n",
      "      for unipolar data that progresses from low to high\n",
      "    Diverging schemes\n",
      "      for bipolar data that emphasizes positive or negative deviations from a\n",
      "      central value\n",
      "    Cyclic schemes\n",
      "      meant for plotting values that wrap around at the\n",
      "      endpoints, such as phase angle, wind direction, or time of day\n",
      "    Qualitative schemes\n",
      "      for nominal data that has no inherent ordering, where color is used\n",
      "      only to distinguish categories\n",
      "    \n",
      "    Matplotlib ships with 4 perceptually uniform color maps which are\n",
      "    the recommended color maps for sequential data:\n",
      "    \n",
      "      =========   ===================================================\n",
      "      Colormap    Description\n",
      "      =========   ===================================================\n",
      "      inferno     perceptually uniform shades of black-red-yellow\n",
      "      magma       perceptually uniform shades of black-red-white\n",
      "      plasma      perceptually uniform shades of blue-red-yellow\n",
      "      viridis     perceptually uniform shades of blue-green-yellow\n",
      "      =========   ===================================================\n",
      "    \n",
      "    The following colormaps are based on the `ColorBrewer\n",
      "    <http://colorbrewer2.org>`_ color specifications and designs developed by\n",
      "    Cynthia Brewer:\n",
      "    \n",
      "    ColorBrewer Diverging (luminance is highest at the midpoint, and\n",
      "    decreases towards differently-colored endpoints):\n",
      "    \n",
      "      ========  ===================================\n",
      "      Colormap  Description\n",
      "      ========  ===================================\n",
      "      BrBG      brown, white, blue-green\n",
      "      PiYG      pink, white, yellow-green\n",
      "      PRGn      purple, white, green\n",
      "      PuOr      orange, white, purple\n",
      "      RdBu      red, white, blue\n",
      "      RdGy      red, white, gray\n",
      "      RdYlBu    red, yellow, blue\n",
      "      RdYlGn    red, yellow, green\n",
      "      Spectral  red, orange, yellow, green, blue\n",
      "      ========  ===================================\n",
      "    \n",
      "    ColorBrewer Sequential (luminance decreases monotonically):\n",
      "    \n",
      "      ========  ====================================\n",
      "      Colormap  Description\n",
      "      ========  ====================================\n",
      "      Blues     white to dark blue\n",
      "      BuGn      white, light blue, dark green\n",
      "      BuPu      white, light blue, dark purple\n",
      "      GnBu      white, light green, dark blue\n",
      "      Greens    white to dark green\n",
      "      Greys     white to black (not linear)\n",
      "      Oranges   white, orange, dark brown\n",
      "      OrRd      white, orange, dark red\n",
      "      PuBu      white, light purple, dark blue\n",
      "      PuBuGn    white, light purple, dark green\n",
      "      PuRd      white, light purple, dark red\n",
      "      Purples   white to dark purple\n",
      "      RdPu      white, pink, dark purple\n",
      "      Reds      white to dark red\n",
      "      YlGn      light yellow, dark green\n",
      "      YlGnBu    light yellow, light green, dark blue\n",
      "      YlOrBr    light yellow, orange, dark brown\n",
      "      YlOrRd    light yellow, orange, dark red\n",
      "      ========  ====================================\n",
      "    \n",
      "    ColorBrewer Qualitative:\n",
      "    \n",
      "    (For plotting nominal data, :class:`ListedColormap` is used,\n",
      "    not :class:`LinearSegmentedColormap`.  Different sets of colors are\n",
      "    recommended for different numbers of categories.)\n",
      "    \n",
      "    * Accent\n",
      "    * Dark2\n",
      "    * Paired\n",
      "    * Pastel1\n",
      "    * Pastel2\n",
      "    * Set1\n",
      "    * Set2\n",
      "    * Set3\n",
      "    \n",
      "    A set of colormaps derived from those of the same name provided\n",
      "    with Matlab are also included:\n",
      "    \n",
      "      =========   =======================================================\n",
      "      Colormap    Description\n",
      "      =========   =======================================================\n",
      "      autumn      sequential linearly-increasing shades of red-orange-yellow\n",
      "      bone        sequential increasing black-white color map with\n",
      "                  a tinge of blue, to emulate X-ray film\n",
      "      cool        linearly-decreasing shades of cyan-magenta\n",
      "      copper      sequential increasing shades of black-copper\n",
      "      flag        repetitive red-white-blue-black pattern (not cyclic at\n",
      "                  endpoints)\n",
      "      gray        sequential linearly-increasing black-to-white\n",
      "                  grayscale\n",
      "      hot         sequential black-red-yellow-white, to emulate blackbody\n",
      "                  radiation from an object at increasing temperatures\n",
      "      hsv         cyclic red-yellow-green-cyan-blue-magenta-red, formed\n",
      "                  by changing the hue component in the HSV color space\n",
      "      jet         a spectral map with dark endpoints, blue-cyan-yellow-red;\n",
      "                  based on a fluid-jet simulation by NCSA [#]_\n",
      "      pink        sequential increasing pastel black-pink-white, meant\n",
      "                  for sepia tone colorization of photographs\n",
      "      prism       repetitive red-yellow-green-blue-purple-...-green pattern\n",
      "                  (not cyclic at endpoints)\n",
      "      spring      linearly-increasing shades of magenta-yellow\n",
      "      summer      sequential linearly-increasing shades of green-yellow\n",
      "      winter      linearly-increasing shades of blue-green\n",
      "      =========   =======================================================\n",
      "    \n",
      "    A set of palettes from the `Yorick scientific visualisation\n",
      "    package <https://dhmunro.github.io/yorick-doc/>`_, an evolution of\n",
      "    the GIST package, both by David H. Munro are included:\n",
      "    \n",
      "      ============  =======================================================\n",
      "      Colormap      Description\n",
      "      ============  =======================================================\n",
      "      gist_earth    mapmaker's colors from dark blue deep ocean to green\n",
      "                    lowlands to brown highlands to white mountains\n",
      "      gist_heat     sequential increasing black-red-orange-white, to emulate\n",
      "                    blackbody radiation from an iron bar as it grows hotter\n",
      "      gist_ncar     pseudo-spectral black-blue-green-yellow-red-purple-white\n",
      "                    colormap from National Center for Atmospheric\n",
      "                    Research [#]_\n",
      "      gist_rainbow  runs through the colors in spectral order from red to\n",
      "                    violet at full saturation (like *hsv* but not cyclic)\n",
      "      gist_stern    \"Stern special\" color table from Interactive Data\n",
      "                    Language software\n",
      "      ============  =======================================================\n",
      "    \n",
      "    \n",
      "    Other miscellaneous schemes:\n",
      "    \n",
      "      ============= =======================================================\n",
      "      Colormap      Description\n",
      "      ============= =======================================================\n",
      "      afmhot        sequential black-orange-yellow-white blackbody\n",
      "                    spectrum, commonly used in atomic force microscopy\n",
      "      brg           blue-red-green\n",
      "      bwr           diverging blue-white-red\n",
      "      coolwarm      diverging blue-gray-red, meant to avoid issues with 3D\n",
      "                    shading, color blindness, and ordering of colors [#]_\n",
      "      CMRmap        \"Default colormaps on color images often reproduce to\n",
      "                    confusing grayscale images. The proposed colormap\n",
      "                    maintains an aesthetically pleasing color image that\n",
      "                    automatically reproduces to a monotonic grayscale with\n",
      "                    discrete, quantifiable saturation levels.\" [#]_\n",
      "      cubehelix     Unlike most other color schemes cubehelix was designed\n",
      "                    by D.A. Green to be monotonically increasing in terms\n",
      "                    of perceived brightness. Also, when printed on a black\n",
      "                    and white postscript printer, the scheme results in a\n",
      "                    greyscale with monotonically increasing brightness.\n",
      "                    This color scheme is named cubehelix because the r,g,b\n",
      "                    values produced can be visualised as a squashed helix\n",
      "                    around the diagonal in the r,g,b color cube.\n",
      "      gnuplot       gnuplot's traditional pm3d scheme\n",
      "                    (black-blue-red-yellow)\n",
      "      gnuplot2      sequential color printable as gray\n",
      "                    (black-blue-violet-yellow-white)\n",
      "      ocean         green-blue-white\n",
      "      rainbow       spectral purple-blue-green-yellow-orange-red colormap\n",
      "                    with diverging luminance\n",
      "      seismic       diverging blue-white-red\n",
      "      nipy_spectral black-purple-blue-green-yellow-red-white spectrum,\n",
      "                    originally from the Neuroimaging in Python project\n",
      "      terrain       mapmaker's colors, blue-green-yellow-brown-white,\n",
      "                    originally from IGOR Pro\n",
      "      ============= =======================================================\n",
      "    \n",
      "    The following colormaps are redundant and may be removed in future\n",
      "    versions.  It's recommended to use the names in the descriptions\n",
      "    instead, which produce identical output:\n",
      "    \n",
      "      =========  =======================================================\n",
      "      Colormap   Description\n",
      "      =========  =======================================================\n",
      "      gist_gray  identical to *gray*\n",
      "      gist_yarg  identical to *gray_r*\n",
      "      binary     identical to *gray_r*\n",
      "      spectral   identical to *nipy_spectral* [#]_\n",
      "      =========  =======================================================\n",
      "    \n",
      "    .. rubric:: Footnotes\n",
      "    \n",
      "    .. [#] Rainbow colormaps, ``jet`` in particular, are considered a poor\n",
      "      choice for scientific visualization by many researchers: `Rainbow Color\n",
      "      Map (Still) Considered Harmful\n",
      "      <http://ieeexplore.ieee.org/document/4118486/?arnumber=4118486>`_\n",
      "    \n",
      "    .. [#] Resembles \"BkBlAqGrYeOrReViWh200\" from NCAR Command\n",
      "      Language. See `Color Table Gallery\n",
      "      <https://www.ncl.ucar.edu/Document/Graphics/color_table_gallery.shtml>`_\n",
      "    \n",
      "    .. [#] See `Diverging Color Maps for Scientific Visualization\n",
      "      <http://www.kennethmoreland.com/color-maps/>`_ by Kenneth Moreland.\n",
      "    \n",
      "    .. [#] See `A Color Map for Effective Black-and-White Rendering of\n",
      "      Color-Scale Images\n",
      "      <https://www.mathworks.com/matlabcentral/fileexchange/2662-cmrmap-m>`_\n",
      "      by Carey Rappaport\n",
      "    \n",
      "    .. [#] Changed to distinguish from ColorBrewer's *Spectral* map.\n",
      "      :func:`spectral` still works, but\n",
      "      ``set_cmap('nipy_spectral')`` is recommended for clarity.\n",
      "\n"
     ]
    }
   ],
   "source": [
    "help(colormaps)"
   ]
  },
  {
   "cell_type": "code",
   "execution_count": 4,
   "metadata": {},
   "outputs": [
    {
     "data": {
      "image/png": "[encoded data removed]",
      "text/plain": [
       "<Figure size 288x288 with 1 Axes>"
      ]
     },
     "metadata": {
      "needs_background": "light"
     },
     "output_type": "display_data"
    }
   ],
   "source": [
    "# let's create a checkerboard pattern\n",
    "SIZE = 4\n",
    "img = np.zeros((SIZE, SIZE))\n",
    "for n in range(0, SIZE):\n",
    "    for m in range(0, SIZE):\n",
    "        if (n & 0x1) ^ (m & 0x1):\n",
    "            ## recall that ^ is the exclusive or\n",
    "            #img[n, m] = 255\n",
    "            img[m, n] = 255\n",
    "\n",
    "# now display the matrix as an image\n",
    "plt.matshow(img); "
   ]
  },
  {
   "cell_type": "markdown",
   "metadata": {},
   "source": [
    "Note how the axes of `plt.matshow()` are arranged diff from that of `plt.imshow()`"
   ]
  },
  {
   "cell_type": "raw",
   "metadata": {},
   "source": [
    "help(plt.matshow)"
   ]
  },
  {
   "cell_type": "code",
   "execution_count": 7,
   "metadata": {},
   "outputs": [
    {
     "data": {
      "image/png": "[encoded data removed]",
      "text/plain": [
       "<Figure size 432x288 with 1 Axes>"
      ]
     },
     "metadata": {
      "needs_background": "light"
     },
     "output_type": "display_data"
    }
   ],
   "source": [
    "plt.imshow(img);"
   ]
  },
  {
   "cell_type": "markdown",
   "metadata": {},
   "source": [
    "Given the equivalence between the space of $M\\times N$ matrices and $\\mathbb{R}^{MN}$ we can easily define the inner product between two matrices in the usual way:\n",
    "\n",
    "$$\n",
    "\\langle \\mathbf{A}, \\mathbf{B} \\rangle = \\sum_{m=0}^{M-1} \\sum_{n=0}^{N-1} a_{m,n} b_{m, n}\n",
    "$$\n",
    "\n",
    "(where we have neglected the conjugation since we'll only deal with real-valued matrices); in other words, we can take the inner product between two matrices as the standard inner product of their unrolled versions. The inner product allows us to define orthogonality between images and this is rather useful since we're going to explore a couple of bases for this space."
   ]
  },
  {
   "cell_type": "markdown",
   "metadata": {},
   "source": [
    "## Actual images\n",
    "\n",
    "Conveniently, using IPython, we can read images from disk in any given format and convert them to numpy arrays; let's load and display for instance a JPEG image:"
   ]
  },
  {
   "cell_type": "raw",
   "metadata": {},
   "source": [
    "img = np.array(plt.imread('cameraman.jpg'), dtype=int)\n",
    "plt.matshow(img);"
   ]
  },
  {
   "cell_type": "raw",
   "metadata": {},
   "source": [
    "---------------------------------------------------------------------------\n",
    "ValueError                                Traceback (most recent call last)\n",
    "<ipython-input-9-37d88f4789f6> in <module>()\n",
    "----> 1 img = np.array(plt.imread('cameraman.jpg'), dtype=int)\n",
    "      2 plt.matshow(img);\n",
    "\n",
    "/home/phunc20/.virtualenvs/dsp-py2.7/lib/python2.7/site-packages/matplotlib/pyplot.pyc in imread(*args, **kwargs)\n",
    "   2371 @docstring.copy_dedent(_imread)\n",
    "   2372 def imread(*args, **kwargs):\n",
    "-> 2373     return _imread(*args, **kwargs)\n",
    "   2374 \n",
    "   2375 \n",
    "\n",
    "/home/phunc20/.virtualenvs/dsp-py2.7/lib/python2.7/site-packages/matplotlib/image.pyc in imread(fname, format)\n",
    "   1351             raise ValueError('Only know how to handle extensions: %s; '\n",
    "   1352                              'with Pillow installed matplotlib can handle '\n",
    "-> 1353                              'more images' % list(handlers))\n",
    "   1354         return im\n",
    "   1355 \n",
    "\n",
    "ValueError: Only know how to handle extensions: [u'png']; with Pillow installed matplotlib can handle more images"
   ]
  },
  {
   "cell_type": "raw",
   "metadata": {},
   "source": [
    "!pip install pillow"
   ]
  },
  {
   "cell_type": "code",
   "execution_count": 11,
   "metadata": {},
   "outputs": [
    {
     "data": {
      "image/png": "[encoded data removed]",
      "text/plain": [
       "<Figure size 288x288 with 1 Axes>"
      ]
     },
     "metadata": {
      "needs_background": "light"
     },
     "output_type": "display_data"
    }
   ],
   "source": [
    "img = np.array(plt.imread('cameraman.jpg'), dtype=int)\n",
    "plt.matshow(img);"
   ]
  },
  {
   "cell_type": "markdown",
   "metadata": {},
   "source": [
    "The image is a $64\\times 64$ low-resolution version of the famous \"cameraman\" test picture. Out of curiosity, we can look at the first column of this image, which is is a $64×1$ vector:"
   ]
  },
  {
   "cell_type": "code",
   "execution_count": 4,
   "metadata": {},
   "outputs": [
    {
     "data": {
      "text/plain": [
       "array([156, 157, 157, 152, 154, 155, 151, 157, 152, 155, 158, 159, 159,\n",
       "       160, 160, 161, 155, 160, 161, 161, 164, 162, 160, 162, 158, 160,\n",
       "       158, 157, 160, 160, 159, 158, 163, 162, 162, 157, 160, 114, 114,\n",
       "       103,  88,  62, 109,  82, 108, 128, 138, 140, 136, 128, 122, 137,\n",
       "       147, 114, 114, 144, 112, 115, 117, 131, 112, 141,  99,  97])"
      ]
     },
     "execution_count": 4,
     "metadata": {},
     "output_type": "execute_result"
    }
   ],
   "source": [
    "img[:,0]"
   ]
  },
  {
   "cell_type": "markdown",
   "metadata": {},
   "source": [
    "The values are integers between zero and 255, meaning that each pixel is encoded over 8 bits (or 256 gray levels)."
   ]
  },
  {
   "cell_type": "markdown",
   "metadata": {},
   "source": [
    "## The canonical basis\n",
    "\n",
    "The canonical basis for any matrix space $\\mathbb{R}^{M\\times N}$ is the set of \"delta\" matrices where only one element equals to one while all the others are 0. Let's call them $\\mathbf{E}_n$ with $0 \\leq n < MN$. Here is a function to create the canonical basis vector given its index:"
   ]
  },
  {
   "cell_type": "code",
   "execution_count": 12,
   "metadata": {},
   "outputs": [],
   "source": [
    "def canonical(n, M=5, N=10):\n",
    "    e = np.zeros((M, N))\n",
    "    #e[(n % M), int(n / M)] = 1\n",
    "    e[n % M, n // M] = 1\n",
    "    return e"
   ]
  },
  {
   "cell_type": "code",
   "execution_count": 18,
   "metadata": {},
   "outputs": [
    {
     "name": "stdout",
     "output_type": "stream",
     "text": [
      "Python 2.7.18\r\n"
     ]
    }
   ],
   "source": [
    "!python --version"
   ]
  },
  {
   "cell_type": "code",
   "execution_count": 19,
   "metadata": {},
   "outputs": [
    {
     "data": {
      "text/plain": [
       "(3, 3, 3)"
      ]
     },
     "execution_count": 19,
     "metadata": {},
     "output_type": "execute_result"
    }
   ],
   "source": [
    "10 / 3, 10 // 3, int(10/3)"
   ]
  },
  {
   "cell_type": "markdown",
   "metadata": {},
   "source": [
    "Here are some basis vectors: look for the position of white pixel, which differentiates them and note that we enumerate pixels column-wise:"
   ]
  },
  {
   "cell_type": "code",
   "execution_count": 6,
   "metadata": {},
   "outputs": [
    {
     "data": {
      "image/png": "[encoded data removed]",
      "text/plain": [
       "<matplotlib.figure.Figure at 0x7f56bd9e4790>"
      ]
     },
     "metadata": {},
     "output_type": "display_data"
    },
    {
     "data": {
      "image/png": "[encoded data removed]",
      "text/plain": [
       "<matplotlib.figure.Figure at 0x7f56bd98fa50>"
      ]
     },
     "metadata": {},
     "output_type": "display_data"
    },
    {
     "data": {
      "image/png": "[encoded data removed]",
      "text/plain": [
       "<matplotlib.figure.Figure at 0x7f56b9feb850>"
      ]
     },
     "metadata": {},
     "output_type": "display_data"
    }
   ],
   "source": [
    "plt.matshow(canonical(0));\n",
    "plt.matshow(canonical(1));\n",
    "plt.matshow(canonical(49));"
   ]
  },
  {
   "cell_type": "markdown",
   "metadata": {},
   "source": [
    "Note how diff `matshow()` is from `imshow()`:\n",
    "> In a jupyter cell, successive `matshow()`'s can draw any number of images, while `imshow()` will only do it for the last one"
   ]
  },
  {
   "cell_type": "code",
   "execution_count": 20,
   "metadata": {},
   "outputs": [
    {
     "data": {
      "image/png": "[encoded data removed]",
      "text/plain": [
       "<Figure size 432x288 with 1 Axes>"
      ]
     },
     "metadata": {
      "needs_background": "light"
     },
     "output_type": "display_data"
    }
   ],
   "source": [
    "plt.imshow(canonical(0));\n",
    "plt.imshow(canonical(1));\n",
    "plt.imshow(canonical(49));"
   ]
  },
  {
   "cell_type": "markdown",
   "metadata": {},
   "source": [
    "##### Stopped here (2020/11/19 12h25)"
   ]
  },
  {
   "cell_type": "markdown",
   "metadata": {},
   "source": [
    "## Transmitting images\n",
    "\n",
    "Suppose we want to transmit the \"cameraman\" image over a communication channel. The intuitive way to do so is to send the  pixel values one by one, which corresponds to sending the coefficients of the decomposition of the image over the canonical basis. So far, nothing complicated: to send the cameraman image, for instance, we will send $64\\times 64 = 4096$ coefficients in a row. \n",
    "\n",
    "Now suppose that a communication failure takes place after the first half of the pixels have been sent. The received data will allow us to display an approximation of the original image only. If we replace the missing data with zeros, here is what we would see, which is not very pretty:"
   ]
  },
  {
   "cell_type": "code",
   "execution_count": 16,
   "metadata": {},
   "outputs": [
    {
     "data": {
      "image/png": "[encoded data removed]",
      "text/plain": [
       "<Figure size 288x288 with 1 Axes>"
      ]
     },
     "metadata": {
      "needs_background": "light"
     },
     "output_type": "display_data"
    }
   ],
   "source": [
    "# unrolling of the image for transmission (we go column by column, hence \"F\")\n",
    "tx_img = np.ravel(img, \"F\")\n",
    "\n",
    "# oops, we lose half the data\n",
    "tx_img[int(len(tx_img)/2):] = 0\n",
    "\n",
    "# rebuild matrix\n",
    "rx_img = np.reshape(tx_img, (64, 64), \"F\")\n",
    "plt.matshow(rx_img);"
   ]
  },
  {
   "cell_type": "raw",
   "metadata": {},
   "source": [
    "help(np.ravel)"
   ]
  },
  {
   "cell_type": "markdown",
   "metadata": {},
   "source": [
    "Can we come up with a trasmission scheme that is more robust in the face of channel loss? Interestingly, the answer is yes, and it involves a different, more versatile basis for the space of images. What we will do is the following: \n",
    "\n",
    "* describe the Haar basis, a new basis for the image space\n",
    "* project the image in the new basis\n",
    "* transmit the projection coefficients\n",
    "* rebuild the image using the basis vectors\n",
    "\n",
    "We know a few things: if we choose an orthonormal basis, the analysis and synthesis formulas will be super easy (a simple inner product and a scalar multiplication respectively). The trick is to find a basis that will be robust to the loss of some coefficients. \n",
    "\n",
    "One such basis is the **Haar basis**. We cannot go into too many details in this notebook but, for the curious, a good starting point is [here](https://chengtsolin.wordpress.com/2015/04/15/real-time-2d-discrete-wavelet-transform-using-opengl-compute-shader/). (An even better starting point is [these two papers](http://grail.cs.washington.edu/projects/wavelets/article/).) Mathematical formulas aside, the Haar basis works by encoding the information in a *hierarchical* way: the first basis vectors encode the broad information and the higher coefficients encode the detail. Let's have a look. \n",
    "\n",
    "First of all, to keep things simple, we will remain in the space of square matrices whose size is a power of two. The code to generate the Haar basis matrices is the following: first we generate a 1D Haar vector and then we obtain the basis matrices by taking the outer product of all possible 1D vectors (don't worry if it's not clear, the results are what's important):"
   ]
  },
  {
   "cell_type": "code",
   "execution_count": 28,
   "metadata": {},
   "outputs": [],
   "source": [
    "def haar1D(n, SIZE):\n",
    "    # check power of two\n",
    "    if math.floor(math.log(SIZE) / math.log(2)) != math.log(SIZE) / math.log(2):\n",
    "        print(\"Haar defined only for lengths that are a power of two\")\n",
    "        return None\n",
    "    if n >= SIZE or n < 0:\n",
    "        print(\"invalid Haar index\")\n",
    "        return None\n",
    "    \n",
    "    # zero basis vector\n",
    "    if n == 0:\n",
    "        return np.ones(SIZE)\n",
    "    \n",
    "    # express n >= 1 as 2^p + q with p as large as possible;\n",
    "    # then k = SIZE/2^p is the length of the support\n",
    "    # and s = qk is the shift\n",
    "    p = math.floor(math.log(n) / math.log(2))\n",
    "    pp = int(pow(2, p))\n",
    "    k = SIZE / pp\n",
    "    s = (n - pp) * k\n",
    "    \n",
    "    h = np.zeros(SIZE)\n",
    "    h[int(s):int(s+k/2)] = 1\n",
    "    h[int(s+k/2):int(s+k)] = -1\n",
    "    # these are not normalized\n",
    "    return h\n",
    "\n",
    "\n",
    "def haar2D(n, SIZE=8):\n",
    "    # get horizontal and vertical indices\n",
    "    hr = haar1D(n % SIZE, SIZE)\n",
    "    hv = haar1D(int(n / SIZE), SIZE)\n",
    "    # 2D Haar basis matrix is separable, so we can\n",
    "    # just take the column-row product\n",
    "    H = np.outer(hr, hv)\n",
    "    # np.outer() is just column vector times row vector,\n",
    "    # the 1st arg being the col vec, the 2nd the row vec.\n",
    "    H = H / math.sqrt(np.sum(H * H))\n",
    "    # the previous line just divides H by its Frobenius norm\n",
    "    # so that the returned value of haar2D() has norm 1.\n",
    "    return H"
   ]
  },
  {
   "cell_type": "code",
   "execution_count": null,
   "metadata": {},
   "outputs": [],
   "source": []
  },
  {
   "cell_type": "markdown",
   "metadata": {},
   "source": [
    "First of all, let's look at a few basis matrices; note that the matrices have **both positive and negative values**, so that the value of **zero** will be represented as **gray**:"
   ]
  },
  {
   "cell_type": "code",
   "execution_count": 29,
   "metadata": {},
   "outputs": [
    {
     "data": {
      "image/png": "[encoded data removed]",
      "text/plain": [
       "<Figure size 288x288 with 1 Axes>"
      ]
     },
     "metadata": {
      "needs_background": "light"
     },
     "output_type": "display_data"
    },
    {
     "data": {
      "image/png": "[encoded data removed]",
      "text/plain": [
       "<Figure size 288x288 with 1 Axes>"
      ]
     },
     "metadata": {
      "needs_background": "light"
     },
     "output_type": "display_data"
    },
    {
     "data": {
      "image/png": "[encoded data removed]",
      "text/plain": [
       "<Figure size 288x288 with 1 Axes>"
      ]
     },
     "metadata": {
      "needs_background": "light"
     },
     "output_type": "display_data"
    },
    {
     "data": {
      "image/png": "[encoded data removed]",
      "text/plain": [
       "<Figure size 288x288 with 1 Axes>"
      ]
     },
     "metadata": {
      "needs_background": "light"
     },
     "output_type": "display_data"
    }
   ],
   "source": [
    "plt.matshow(haar2D(0));\n",
    "plt.matshow(haar2D(1));\n",
    "plt.matshow(haar2D(10));\n",
    "plt.matshow(haar2D(63));"
   ]
  },
  {
   "cell_type": "markdown",
   "metadata": {},
   "source": [
    "We can notice two key properties\n",
    "\n",
    "* each basis matrix has positive and negative values in some symmetric pattern: this means that the basis matrix will implicitly compute the difference between image areas\n",
    "* low-index basis matrices take differences between large areas, while high-index ones take differences in smaller **localized** areas of the image\n",
    "\n",
    "We can immediately verify that the Haar matrices are orthogonal:"
   ]
  },
  {
   "cell_type": "code",
   "execution_count": 30,
   "metadata": {},
   "outputs": [
    {
     "name": "stdout",
     "output_type": "stream",
     "text": [
      "[0x0 -> 1.000000] [1x1 -> 1.000000] [2x2 -> 1.000000] [3x3 -> 1.000000] [4x4 -> 1.000000] [5x5 -> 1.000000] [6x6 -> 1.000000] [7x7 -> 1.000000] [8x8 -> 1.000000] [9x9 -> 1.000000] [10x10 -> 1.000000] [11x11 -> 1.000000] [12x12 -> 1.000000] [13x13 -> 1.000000] [14x14 -> 1.000000] [15x15 -> 1.000000] [16x16 -> 1.000000] [16x17 -> -0.000000] [17x16 -> -0.000000] [17x17 -> 1.000000] [18x18 -> 1.000000] [19x19 -> 1.000000] [20x20 -> 1.000000] [21x21 -> 1.000000] [22x22 -> 1.000000] [23x23 -> 1.000000] [24x24 -> 1.000000] [24x25 -> -0.000000] [25x24 -> -0.000000] [25x25 -> 1.000000] [26x26 -> 1.000000] [27x27 -> 1.000000] [28x28 -> 1.000000] [29x29 -> 1.000000] [30x30 -> 1.000000] [31x31 -> 1.000000] [32x32 -> 1.000000] [33x33 -> 1.000000] [34x34 -> 1.000000] [35x35 -> 1.000000] [36x36 -> 1.000000] [37x37 -> 1.000000] [38x38 -> 1.000000] [39x39 -> 1.000000] [40x40 -> 1.000000] [41x41 -> 1.000000] [42x42 -> 1.000000] [43x43 -> 1.000000] [44x44 -> 1.000000] [45x45 -> 1.000000] [46x46 -> 1.000000] [47x47 -> 1.000000] [48x48 -> 1.000000] [49x49 -> 1.000000] [50x50 -> 1.000000] [51x51 -> 1.000000] [52x52 -> 1.000000] [53x53 -> 1.000000] [54x54 -> 1.000000] [55x55 -> 1.000000] [56x56 -> 1.000000] [57x57 -> 1.000000] [58x58 -> 1.000000] [59x59 -> 1.000000] [60x60 -> 1.000000] [61x61 -> 1.000000] [62x62 -> 1.000000] [63x63 -> 1.000000] "
     ]
    }
   ],
   "source": [
    "# let's use an 8x8 space; there will be 64 basis vectors\n",
    "# compute all possible inner product and only print the nonzero results\n",
    "for m in range(0,64):\n",
    "    for n in range(0,64):\n",
    "        r = np.sum(haar2D(m, 8) * haar2D(n, 8))\n",
    "        if r != 0:\n",
    "            print(\"[%dx%d -> %f] \" % (m, n, r), end=\"\")"
   ]
  },
  {
   "cell_type": "markdown",
   "metadata": {},
   "source": [
    "OK! Everything's fine. Now let's transmit the \"cameraman\" image: first, let's verify that it works"
   ]
  },
  {
   "cell_type": "code",
   "execution_count": 31,
   "metadata": {},
   "outputs": [
    {
     "data": {
      "image/png": "[encoded data removed]",
      "text/plain": [
       "<Figure size 288x288 with 1 Axes>"
      ]
     },
     "metadata": {
      "needs_background": "light"
     },
     "output_type": "display_data"
    }
   ],
   "source": [
    "# project the image onto the Haar basis, obtaining a vector of 4096 coefficients\n",
    "# this is simply the analysis formula for the vector space with an orthogonal basis\n",
    "tx_img = np.zeros(64*64)\n",
    "for k in range(0, (64*64)):\n",
    "    tx_img[k] = np.sum(img * haar2D(k, 64))\n",
    "\n",
    "# now rebuild the image with the synthesis formula; since the basis is orthonormal\n",
    "# we just need to scale the basis matrices by the projection coefficients\n",
    "rx_img = np.zeros((64, 64))\n",
    "for k in range(0, (64*64)):\n",
    "    rx_img += tx_img[k] * haar2D(k, 64)\n",
    "\n",
    "plt.matshow(rx_img);"
   ]
  },
  {
   "cell_type": "code",
   "execution_count": 38,
   "metadata": {},
   "outputs": [
    {
     "data": {
      "text/plain": [
       "2.112088282046898e-12"
      ]
     },
     "execution_count": 38,
     "metadata": {},
     "output_type": "execute_result"
    }
   ],
   "source": [
    "np.linalg.norm(img - rx_img, inf)"
   ]
  },
  {
   "cell_type": "raw",
   "metadata": {},
   "source": [
    "help(np.linalg.norm)"
   ]
  },
  {
   "cell_type": "markdown",
   "metadata": {},
   "source": [
    "Cool, it works! Now let's see what happens if we lose the second half of the coefficients:"
   ]
  },
  {
   "cell_type": "code",
   "execution_count": 39,
   "metadata": {},
   "outputs": [
    {
     "data": {
      "image/png": "[encoded data removed]",
      "text/plain": [
       "<Figure size 288x288 with 1 Axes>"
      ]
     },
     "metadata": {
      "needs_background": "light"
     },
     "output_type": "display_data"
    }
   ],
   "source": [
    "# oops, we lose half the data\n",
    "lossy_img = np.copy(tx_img);\n",
    "lossy_img[int(len(tx_img)/2):] = 0\n",
    "\n",
    "# rebuild matrix\n",
    "rx_img = np.zeros((64, 64))\n",
    "for k in range(0, (64*64)):\n",
    "    rx_img += lossy_img[k] * haar2D(k, 64)\n",
    "\n",
    "plt.matshow(rx_img);"
   ]
  },
  {
   "cell_type": "markdown",
   "metadata": {},
   "source": [
    "That's quite remarkable, no? We've lost the same amount of information as before but the image is still acceptable. This is because we lost the coefficients associated to the fine details of the image but we retained the \"broad strokes\" encoded by the first half. \n",
    "\n",
    "Note that if we lose the first half of the coefficients, the result would look remarkably different:"
   ]
  },
  {
   "cell_type": "code",
   "execution_count": 41,
   "metadata": {},
   "outputs": [
    {
     "data": {
      "image/png": "[encoded data removed]",
      "text/plain": [
       "<Figure size 288x288 with 1 Axes>"
      ]
     },
     "metadata": {
      "needs_background": "light"
     },
     "output_type": "display_data"
    }
   ],
   "source": [
    "lossy_img = np.copy(tx_img);\n",
    "lossy_img[0:int(len(tx_img)/2)] = 0\n",
    "\n",
    "rx_img = np.zeros((64, 64))\n",
    "for k in range(0, (64*64)):\n",
    "    rx_img += lossy_img[k] * haar2D(k, 64)\n",
    "\n",
    "plt.matshow(rx_img);"
   ]
  },
  {
   "cell_type": "markdown",
   "metadata": {},
   "source": [
    "In fact, schemes like this one are used in *progressive encoding*: send the most important information first and add details if the channel permits it. You may have experienced this while browsing the internet over a slow connection. \n",
    "\n",
    "All in all, a great application of a change of basis!"
   ]
  },
  {
   "cell_type": "markdown",
   "metadata": {},
   "source": [
    "## A few of my own questions"
   ]
  },
  {
   "cell_type": "markdown",
   "metadata": {},
   "source": [
    "About `# check power of two` of `haar1D()`"
   ]
  },
  {
   "cell_type": "code",
   "execution_count": 22,
   "metadata": {},
   "outputs": [
    {
     "name": "stdout",
     "output_type": "stream",
     "text": [
      "Help on built-in function log in module math:\n",
      "\n",
      "log(...)\n",
      "    log(x[, base])\n",
      "    \n",
      "    Return the logarithm of x to the given base.\n",
      "    If the base not specified, returns the natural logarithm (base e) of x.\n",
      "\n"
     ]
    }
   ],
   "source": [
    "help(math.log)"
   ]
  },
  {
   "cell_type": "code",
   "execution_count": 23,
   "metadata": {},
   "outputs": [
    {
     "data": {
      "text/plain": [
       "0.6931471805599453"
      ]
     },
     "execution_count": 23,
     "metadata": {},
     "output_type": "execute_result"
    }
   ],
   "source": [
    "math.log(2)"
   ]
  },
  {
   "cell_type": "code",
   "execution_count": 24,
   "metadata": {},
   "outputs": [
    {
     "data": {
      "text/plain": [
       "1.0"
      ]
     },
     "execution_count": 24,
     "metadata": {},
     "output_type": "execute_result"
    }
   ],
   "source": [
    "math.log(2, 2)"
   ]
  },
  {
   "cell_type": "code",
   "execution_count": 25,
   "metadata": {},
   "outputs": [
    {
     "data": {
      "text/plain": [
       "0.30102999566398114"
      ]
     },
     "execution_count": 25,
     "metadata": {},
     "output_type": "execute_result"
    }
   ],
   "source": [
    "math.log(2, 10)"
   ]
  },
  {
   "cell_type": "markdown",
   "metadata": {},
   "source": [
    "The author is just checking whether\n",
    "$\n",
    "\\log_{2} \\texttt{SIZE} = \\frac{\\ln \\texttt{SIZE}}{\\ln 2}\n",
    "$\n",
    "is an integer."
   ]
  },
  {
   "cell_type": "markdown",
   "metadata": {},
   "source": [
    "#### (?) Is `np.outer()` simply the matrix multiplication of a column with a row?"
   ]
  },
  {
   "cell_type": "markdown",
   "metadata": {},
   "source": [
    "####  (R) Yes, see below"
   ]
  },
  {
   "cell_type": "raw",
   "metadata": {},
   "source": [
    "help(np.outer)"
   ]
  },
  {
   "cell_type": "markdown",
   "metadata": {},
   "source": [
    "#### (?) What is `n` in `haar2D()`?\n",
    "Must `n` be bounded?\n",
    "\n",
    "#### (R)\n",
    "It seems that if `SIZE = k`, then `n = 0, 1, 2, ..., k**2 -1`, like the above examples\n",
    "- when `SIZE=8`, `n = 0, 1, ..., 63`\n",
    "- when `SIZE=64`, `n = 0, 1, ..., 64**2 - 1`"
   ]
  },
  {
   "cell_type": "markdown",
   "metadata": {},
   "source": [
    "- [http://grail.cs.washington.edu/projects/wavelets/](http://grail.cs.washington.edu/projects/wavelets/)\n",
    "    - [http://grail.cs.washington.edu/Research/](http://grail.cs.washington.edu/Research/)\n",
    "- **exercise3.4 p.57** of the textbook written by the same authors of the course also talks about Haar basis.    "
   ]
  },
  {
   "cell_type": "code",
   "execution_count": null,
   "metadata": {},
   "outputs": [],
   "source": []
  }
 ],
 "metadata": {
  "kernelspec": {
   "display_name": "Python 3",
   "language": "python",
   "name": "python3"
  },
  "language_info": {
   "codemirror_mode": {
    "name": "ipython",
    "version": 3
   },
   "file_extension": ".py",
   "mimetype": "text/x-python",
   "name": "python",
   "nbconvert_exporter": "python",
   "pygments_lexer": "ipython3",
   "version": "3.8.5"
  }
 },
 "nbformat": 4,
 "nbformat_minor": 1
}
