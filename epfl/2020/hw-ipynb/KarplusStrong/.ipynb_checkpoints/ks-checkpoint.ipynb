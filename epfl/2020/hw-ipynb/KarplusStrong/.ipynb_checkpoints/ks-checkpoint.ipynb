{
 "cells": [
  {
   "cell_type": "markdown",
   "metadata": {},
   "source": [
    "# The Karplus-Strong Algorithm\n",
    "\n",
    "The Karplus-Strong algorithm is a simple digital feedback loop with an internal buffer of $M$ samples. The buffer is filled with a set of initial values and the loop, when running, produces an arbitraryly long output signal. Although elementary, the K-S loop can be used to synthesize interesting musical sounds as we will see in this notebook.\n",
    "\n",
    "Let's start with a basic implementation of the K-S loop:"
   ]
  },
  {
   "cell_type": "code",
   "execution_count": null,
   "metadata": {
    "collapsed": true
   },
   "outputs": [],
   "source": [
    "def KS_1(x, N):\n",
    "    # given the initial buffer x, produce a N-sample output\n",
    "    #  by concatenating identical copies of the buffer\n",
    "    y = x\n",
    "    while len(y) < N:\n",
    "        # keep appending until we reach or exceed the required length\n",
    "        y = np.append(y, x)\n",
    "    # trim the excess\n",
    "    y = y[0:N+1]\n",
    "    return y"
   ]
  },
  {
   "cell_type": "markdown",
   "metadata": {},
   "source": [
    "OK, let's try it out right away! Yet, however impatient we may be, we still need to do a few things. First we need to include the necessary Python libraries: "
   ]
  },
  {
   "cell_type": "code",
   "execution_count": null,
   "metadata": {
    "collapsed": true
   },
   "outputs": [],
   "source": [
    "%matplotlib inline\n",
    "import matplotlib\n",
    "import matplotlib.pyplot as plt\n",
    "import numpy as np\n",
    "import IPython"
   ]
  },
  {
   "cell_type": "markdown",
   "metadata": {},
   "source": [
    "Then, since we're playing audio, we need to set the internal \"clock\" of the system, aka the sampling rate:"
   ]
  },
  {
   "cell_type": "code",
   "execution_count": null,
   "metadata": {
    "collapsed": true
   },
   "outputs": [],
   "source": [
    "Fs = 16000 # 16 KHz sampling rate"
   ]
  },
  {
   "cell_type": "markdown",
   "metadata": {},
   "source": [
    "With this sampling rate, since the period of the generated signal is equal to the length of the inital buffer, we will be able to compute the fundamental frequency of the resulting sound. For instance, if we init the K-S algorithm with a vector of 50 values, the buffer will fit $16000 / 50 = 320$ times in a second's worth of samples or, in other words, the resulting frequency will be 320Hz, which corresponds roughly to a E4 on a piano.\n",
    "\n",
    "We still haven't talked about what to use as the initial values for the buffer. Well, the cool thing about K-S is that we can use pretty much anything we want; as a matter of fact, using random values will give you a totally fine sound. As a proof, consider this initial data set:"
   ]
  },
  {
   "cell_type": "code",
   "execution_count": null,
   "metadata": {
    "collapsed": false
   },
   "outputs": [],
   "source": [
    "b = np.random.randn(50)\n",
    "plt.stem(b);"
   ]
  },
  {
   "cell_type": "markdown",
   "metadata": {},
   "source": [
    "Let's now generate a 2-second audio clip:"
   ]
  },
  {
   "cell_type": "code",
   "execution_count": null,
   "metadata": {
    "collapsed": false
   },
   "outputs": [],
   "source": [
    "y = KS_1(b, Fs * 2)\n",
    "\n",
    "# we can look at a few periods:\n",
    "plt.stem(y[0:500]);"
   ]
  },
  {
   "cell_type": "code",
   "execution_count": null,
   "metadata": {
    "collapsed": false
   },
   "outputs": [],
   "source": [
    "IPython.display.Audio(y, rate=Fs)"
   ]
  },
  {
   "cell_type": "code",
   "execution_count": null,
   "metadata": {
    "collapsed": false
   },
   "outputs": [],
   "source": [
    "# let's play an octave lower: just double the initial buffer's length\n",
    "IPython.display.Audio(KS_1(np.random.rand(100), Fs * 2), rate=Fs)"
   ]
  },
  {
   "cell_type": "markdown",
   "metadata": {},
   "source": [
    "OK, so the K-S algorithm works! From the signal processing point of view, we can describe the system with the following block diagram (neglect the factor $\\alpha$ for a moment)\n",
    "\n",
    "![title](ks.png)\n",
    "\n",
    "The output can be expressed as\n",
    "$$\n",
    "    y[n] = x[n] + y[n - M]\n",
    "$$\n",
    "assuming that the input is the finite-support signal\n",
    "$$\n",
    "x[n] = \\begin{cases}\n",
    "    0 & \\mbox{for $n < 0$} \\\\\n",
    "    b_n & \\mbox{for $0 \\le n < M$} \\\\\n",
    "    0 & \\mbox{for $n \\ge M$}\n",
    "  \\end{cases}\n",
    "$$\n",
    "\n",
    "Let's implement the K-S algorithm as a signal processing loop"
   ]
  },
  {
   "cell_type": "code",
   "execution_count": null,
   "metadata": {
    "collapsed": true
   },
   "outputs": [],
   "source": [
    "def KS_2(x, N):\n",
    "    # length of the input\n",
    "    M = len(x)\n",
    "    # prepare the output\n",
    "    y = np.zeros(N)\n",
    "    # this is NOT an efficient implementation, but it shows the general principle\n",
    "    # we assume zero initial conditions (y[n]=0 for n < 0)\n",
    "    for n in range(0, N):\n",
    "        y[n] = (x[n] if n < M else 0) + (y[n-M] if n-M >= 0 else 0)\n",
    "    return y"
   ]
  },
  {
   "cell_type": "code",
   "execution_count": null,
   "metadata": {
    "collapsed": false
   },
   "outputs": [],
   "source": [
    "# it should still work\n",
    "IPython.display.Audio(KS_2(np.random.rand(50), Fs * 2), rate=Fs)"
   ]
  },
  {
   "cell_type": "markdown",
   "metadata": {},
   "source": [
    "By looking at block diagram we can see a simple modification that adds a lot of realism to the sound: by setting $\\alpha$ to a value close to but less that one, we can introuce a decay in the note that produces guitar-like sounds:\n",
    "$$\n",
    "    y[n] = x[n] + \\alpha y[n - M]\n",
    "$$"
   ]
  },
  {
   "cell_type": "code",
   "execution_count": null,
   "metadata": {
    "collapsed": true
   },
   "outputs": [],
   "source": [
    "def KS_3(x, N, alpha = 0.99):\n",
    "    M = len(x)\n",
    "    y = np.zeros(N)\n",
    "    # \n",
    "    for n in range(0, N):\n",
    "        y[n] = (x[n] if n < M else 0) + alpha * (y[n-M] if n-M >= 0 else 0)\n",
    "    return y"
   ]
  },
  {
   "cell_type": "markdown",
   "metadata": {},
   "source": [
    "If we now plot the resulting K-S output, we can see the decaying envelope:"
   ]
  },
  {
   "cell_type": "code",
   "execution_count": null,
   "metadata": {
    "collapsed": false
   },
   "outputs": [],
   "source": [
    "y = KS_3(b, Fs * 2)\n",
    "plt.stem(y[0:2000]);"
   ]
  },
  {
   "cell_type": "code",
   "execution_count": null,
   "metadata": {
    "collapsed": false
   },
   "outputs": [],
   "source": [
    "IPython.display.Audio(y, rate=Fs)"
   ]
  },
  {
   "cell_type": "markdown",
   "metadata": {},
   "source": [
    "There is just one last detail (the devil's in the details, here as everywhere else). Consider the output of a dampened K-S loop; every time the initial buffer goes through the loop, it gets multiplied by $\\alpha$ so that we can write\n",
    "$$\n",
    "  y[n] = \\alpha^{\\lfloor n/M \\rfloor}x[n \\mod N]\n",
    "$$\n",
    "(think about it and it will make sense). What that means is that the decay envelope is dependent on both $\\alpha$ *and* $M$ or, in other words, the higher the pitch of the note, the faster its decay. For instance:"
   ]
  },
  {
   "cell_type": "code",
   "execution_count": null,
   "metadata": {
    "collapsed": false
   },
   "outputs": [],
   "source": [
    "IPython.display.Audio(KS_3(np.random.rand(50), Fs * 2), rate=Fs)"
   ]
  },
  {
   "cell_type": "code",
   "execution_count": null,
   "metadata": {
    "collapsed": false
   },
   "outputs": [],
   "source": [
    "IPython.display.Audio(KS_3(np.random.rand(10), Fs * 2), rate=Fs)"
   ]
  },
  {
   "cell_type": "markdown",
   "metadata": {},
   "source": [
    "This is no good and therefore we need to compensate so that, if $\\alpha$ is the same, the decay rate is the same. This leads us to the last implementation of the K-S algorithm:"
   ]
  },
  {
   "cell_type": "code",
   "execution_count": null,
   "metadata": {
    "collapsed": true
   },
   "outputs": [],
   "source": [
    "def KS(x, N, alpha = 0.99):\n",
    "    # we will adjust alpha so that all notes have a decay\n",
    "    #  comparable to that of a buf len of 50 samples\n",
    "    REF_LEN = 50\n",
    "    M = len(x)\n",
    "    a = alpha ** (float(M) / REF_LEN)\n",
    "    y = np.zeros(N)\n",
    "    # \n",
    "    for n in range(0, N):\n",
    "        y[n] = (x[n] if n < M else 0) + a * (y[n-M] if n-M >= 0 else 0)\n",
    "    return y"
   ]
  },
  {
   "cell_type": "code",
   "execution_count": null,
   "metadata": {
    "collapsed": false
   },
   "outputs": [],
   "source": [
    "IPython.display.Audio(KS(np.random.rand(50), Fs * 2), rate=Fs)"
   ]
  },
  {
   "cell_type": "code",
   "execution_count": null,
   "metadata": {
    "collapsed": false
   },
   "outputs": [],
   "source": [
    "IPython.display.Audio(KS(np.random.rand(10), Fs * 2), rate=Fs)"
   ]
  },
  {
   "cell_type": "markdown",
   "metadata": {},
   "source": [
    "## Playing Music!\n",
    "\n",
    "Let's now play some cool guitar and, arguably, no guitar chord is as cool as the [opening chord of \"A Hard Day's Night\"](http://en.wikipedia.org/wiki/A_Hard_Day%27s_Night_%28song%29#Opening_chord), by The Beatles.\n",
    "\n",
    "![title](hdn.png)\n",
    "\n",
    "Much has been written about the chord (which, in fact, is made up of 2 guitars, one of which a 12-string, a piano and a bass) but to keep things simple, we will accept the most prevalent thesis which states that the notes are $D_3, F_3, G_3, F_4, A_4, C_5$ and $G_5$. To give it a \"wider\" feeling we will add another $D_2$ below. \n",
    "\n",
    "In Western music, where equal temperament is used, $A_4$ is the reference pitch at a frequency at 440Hz. All other notes can be computed using the formula $f(n) = A4 \\times 2^{n/12}$ where $n$ is the number of half-tones between $A_4$ and the desired note. The exponent $n$ is positive if the note is above $A_4$ and negative otherwise.\n",
    "\n",
    "\n",
    "Each note is generated using a separate Karplus-Strong algorithm. We try to mix the different \"instruments\" by assigning a\n",
    "different gain to each note. Also, we sustain Paul's D note on the bass a bit longer by changing the corresponding decay factor."
   ]
  },
  {
   "cell_type": "code",
   "execution_count": null,
   "metadata": {
    "collapsed": false
   },
   "outputs": [],
   "source": [
    "def freq(note):\n",
    "    # general purpose function to convert a note  in standard notation \n",
    "    #  to corresponding frequency\n",
    "    if len(note) < 2 or len(note) > 3 or \\\n",
    "        note[0] < 'A' or note[0] > 'G':\n",
    "        return 0\n",
    "    if len(note) == 3:\n",
    "        if note[1] == 'b':\n",
    "            acc = -1\n",
    "        elif note[1] == '#':\n",
    "            acc = 1\n",
    "        else:\n",
    "            return 0\n",
    "        octave = int(note[2])\n",
    "    else:\n",
    "        acc = 0\n",
    "        octave = int(note[1])\n",
    "    SEMITONES = {'A': 0, 'B': 2, 'C': -9, 'D': -7, 'E': -5, 'F': -4, 'G': -2}\n",
    "    n = 12 * (octave - 4) + SEMITONES[note[0]] + acc\n",
    "    f = 440 * (2 ** (float(n) / 12.0))\n",
    "    #print note, f\n",
    "    return f\n",
    "\n",
    "\n",
    "def ks_chord(chord, N, alpha):\n",
    "    y = np.zeros(N)\n",
    "    # the chord is a dictionary: pitch => gain\n",
    "    for note, gain in chord.iteritems():\n",
    "        # create an initial random-filled KS buffer the note\n",
    "        x = np.random.randn(int(np.round(float(Fs) / freq(note))))\n",
    "        y = y + gain * KS(x, N, alpha)\n",
    "    return y  "
   ]
  },
  {
   "cell_type": "code",
   "execution_count": null,
   "metadata": {
    "collapsed": false
   },
   "outputs": [],
   "source": [
    "# A Hard Day's Night's chord\n",
    "hdn_chord = {\n",
    "    'D2' : 2.2, \n",
    "    'D3' : 3.0, \n",
    "    'F3' : 1.0, \n",
    "    'G3' : 3.2, \n",
    "    'F4' : 1.0, \n",
    "    'A4' : 1.0, \n",
    "    'C5' : 1.0, \n",
    "    'G5' : 3.5,\n",
    "}\n",
    "    \n",
    "IPython.display.Audio(ks_chord(hdn_chord, Fs * 4, 0.995), rate=Fs)"
   ]
  },
  {
   "cell_type": "markdown",
   "metadata": {},
   "source": [
    "Close enough, no? (Check [here](https://upload.wikimedia.org/wikipedia/en/c/c4/A_Hard_Day's_Night_opening_chord.ogg)). You can now play around with other famous chords, try for instance the \"Mystic Chord\" by Scriabin, whose notes are $C_3, F^{\\sharp}_3, B^{\\flat}_3, E_4, A_4, D_5$."
   ]
  },
  {
   "cell_type": "markdown",
   "metadata": {},
   "source": [
    "## Final Quiz\n",
    "\n",
    "How would you describe what's happening here?"
   ]
  },
  {
   "cell_type": "code",
   "execution_count": null,
   "metadata": {
    "collapsed": false
   },
   "outputs": [],
   "source": [
    "a = np.random.rand(100)\n",
    "b = np.random.rand(80)\n",
    "c = np.concatenate((a, a, a, a)) + np.concatenate((b, b, b, b, b))\n",
    "\n",
    "IPython.display.Audio(KS_1(c, Fs * 2), rate=Fs)"
   ]
  },
  {
   "cell_type": "code",
   "execution_count": null,
   "metadata": {
    "collapsed": true
   },
   "outputs": [],
   "source": []
  },
  {
   "cell_type": "code",
   "execution_count": null,
   "metadata": {
    "collapsed": true
   },
   "outputs": [],
   "source": []
  }
 ],
 "metadata": {
  "kernelspec": {
   "display_name": "Python 2",
   "language": "python",
   "name": "python2"
  },
  "language_info": {
   "codemirror_mode": {
    "name": "ipython",
    "version": 2
   },
   "file_extension": ".py",
   "mimetype": "text/x-python",
   "name": "python",
   "nbconvert_exporter": "python",
   "pygments_lexer": "ipython2",
   "version": "2.7.12"
  }
 },
 "nbformat": 4,
 "nbformat_minor": 0
}
