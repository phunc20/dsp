{
 "cells": [
  {
   "cell_type": "markdown",
   "metadata": {},
   "source": [
    "# Exercise 1: Python and sounds\n",
    "\n",
    "This exercise aims to get familiar with some basic audio operations using Python. There are four parts to it: 1) Reading an audio file, 2) Basic operations with audio, 3) Python array indexing, and 4) Downsampling audio - Changing the sampling rate. \n",
    "\n",
    "Before doing the exercise, please go through the general information for all the exercises given in `README.txt` of the `exercises` directory. \n",
    "\n",
    "### Relevant concepts\n",
    "\n",
    "__Python:__ Python is a powerful and easy to learn programming language, which is used in a wide variety of application areas. More information in https://www.python.org/. We will use python in all the exercises and in this first one you will start learning about it by performing some basic operations with sound files. \n",
    "\n",
    "__Jupyter notebooks:__ Jupiter notebooks are interactive documents containing live code, equations, visualizations and narrative text. More information in https://jupyter.org/. It supports Python and all the exercises here use it.\n",
    "\n",
    "__Wav file:__ The wav file format is a lossless format to store sounds on a hard drive. Each audio sample is stored as a 16 bit integer number (sometimes also as 24 bit integer or 32 bit float). In this course we will work with only one type of audio files. All the sound files we use in the assignments should be wav files that are mono (one channel), in which the samples are stored in 16 bits, and that use (most of the time) the sampling rate of 44100 Hz. Once read into python, the samples will be converted to floating point values with a range from -1 to 1, resulting in a one-dimensional array of floating point values."
   ]
  },
  {
   "cell_type": "markdown",
   "metadata": {},
   "source": [
    "## Part 1 - Reading in an audio file\n",
    "Complete the `read_audio` function that should read an audio file and return 10 consecutive samples of the file starting from the 50001th sample. This means that the output should exactly contain the 50001th sample to the 50010th sample (10 samples). \n",
    "\n",
    "The input to the function is the file name (including the path) and the output should be a numpy array containing 10 samples.\n",
    "\n",
    "If you use the `wavread` function from the `utilFunctions` module available in the `software/models` directory, the input samples will be automatically converted to a numpy array of floating point numbers with a range from -1 to 1, which is what we want. \n",
    "\n",
    "Remember that in python, the index of the first sample of an array is 0 and not 1."
   ]
  },
  {
   "cell_type": "code",
   "execution_count": null,
   "metadata": {},
   "outputs": [],
   "source": [
    "import sys\n",
    "import os\n",
    "import numpy as np\n",
    "\n",
    "sys.path.append('../software/models/')\n",
    "from utilFunctions import wavread, wavwrite"
   ]
  },
  {
   "cell_type": "code",
   "execution_count": null,
   "metadata": {},
   "outputs": [],
   "source": [
    "def read_audio(input_file):\n",
    "    \"\"\"\n",
    "    Input:\n",
    "        input_file: the path to the wav file      \n",
    "    Output:\n",
    "        returns a numpy array containing 10 samples of the audio file\n",
    "    \"\"\"\n",
    "    ## Your code here\n"
   ]
  },
  {
   "cell_type": "markdown",
   "metadata": {},
   "source": [
    "Now call and test the `read_audio` function. You can use as input the sound files from the sounds directory, thus using a relative path to it. If you run your code using the `piano.wav` sound file as input, the function should return the following 10 samples:\n",
    "```\n",
    "array([-0.06213569, -0.04541154, -0.02734458, -0.0093997 ,  0.00769066,\t0.02319407,  0.03503525, 0.04309214, 0.04626606,  0.0441908], dtype=float32)\n",
    "```"
   ]
  },
  {
   "cell_type": "code",
   "execution_count": null,
   "metadata": {},
   "outputs": [],
   "source": [
    "# call read_audio\n",
    "### Your code here\n",
    "\n"
   ]
  },
  {
   "cell_type": "markdown",
   "metadata": {},
   "source": [
    "## Part 2 - Basic operations with audio"
   ]
  },
  {
   "cell_type": "markdown",
   "metadata": {},
   "source": [
    "Complete the function `minMaxAudio` to be able to read an audio file and return the minimum and  maximum values of the audio samples in that file. The input to the function is the wav file name (including the path) and the output should be two floating point values returned as a tuple."
   ]
  },
  {
   "cell_type": "code",
   "execution_count": null,
   "metadata": {},
   "outputs": [],
   "source": [
    "def min_max_audio(input_file):\n",
    "    \"\"\"\n",
    "    Input:\n",
    "        inputFile: file name of the wav file (including path)\n",
    "    Output:\n",
    "        Tuple with the minimum and the maximum value of the audio samples, like: (min_val, max_val)\n",
    "    \"\"\"\n",
    "    ## Your code here\n"
   ]
  },
  {
   "cell_type": "markdown",
   "metadata": {},
   "source": [
    "Now run and test `min_max_audio`. If you run it using `oboe-A4.wav` as input, it should return the following output: \n",
    "\n",
    "```\n",
    "(-0.83486432, 0.56501967)\n",
    "```"
   ]
  },
  {
   "cell_type": "code",
   "execution_count": null,
   "metadata": {},
   "outputs": [],
   "source": [
    "# call min_max_audio\n",
    "### Your code here\n"
   ]
  },
  {
   "cell_type": "markdown",
   "metadata": {},
   "source": [
    "## Part 3 - Python array indexing"
   ]
  },
  {
   "cell_type": "markdown",
   "metadata": {},
   "source": [
    "Complete the function `hop_samples` that given a numpy array `x`, should return every Mth element of `x`, starting from the first element. The input arguments to this function are a numpy array `x` and a positive integer `M` such that `M` < number of elements in `x`. The output of this function should be a numpy array."
   ]
  },
  {
   "cell_type": "code",
   "execution_count": null,
   "metadata": {},
   "outputs": [],
   "source": [
    "def hop_samples(x, M):\n",
    "    \"\"\"\n",
    "    Inputs:\n",
    "        x: input numpy array\n",
    "        M: hop size (positive integer)\n",
    "    Output:\n",
    "        Numpy array containing every Mth element in x, starting from the first element in x\n",
    "    \"\"\"\n",
    "    ## Your code here\n"
   ]
  },
  {
   "cell_type": "markdown",
   "metadata": {},
   "source": [
    "Now run and test `hop_samples`. If you run it with `x = np.arange(10)` and `M = 2` as inputs, it should return: \n",
    "\n",
    "```\n",
    "array([0, 2, 4, 6, 8])\n",
    "```"
   ]
  },
  {
   "cell_type": "code",
   "execution_count": null,
   "metadata": {},
   "outputs": [],
   "source": [
    "# call hop_samples\n",
    "### Your code here\n"
   ]
  },
  {
   "cell_type": "markdown",
   "metadata": {},
   "source": [
    "## Part 4 - Downsampling\n"
   ]
  },
  {
   "cell_type": "markdown",
   "metadata": {},
   "source": [
    "One of the required processes to represent an analog signal inside a computer is sampling. The sampling rate is the number of samples obtained in one second when sampling a continuous analog signal to a discrete digital signal. As mentioned we will be working with wav audio files that have a sampling rate of 44100 Hz, which is a typical value. Here you will learn a simple way of changing the original sampling rate of a sound to a lower sampling rate, and will learn the implications it has in the audio quality.\n",
    "\n",
    "Complete the function `down_sample_audio()` so that given an audio file with a given sampling rate, it applies downsampling by a factor of `M` and returns a down-sampled version of the input samples. The sampling rates and downsampling factors to use have to be integer values.\n",
    "\n",
    "From the output samples if you need to create a wav audio file from an array, you can use the `wavwrite()` function from the `utilFunctions.py` module. However, in this exercise there is no need to write an audio file, we will be able to hear the sound without creating a file, just playing the array of samples."
   ]
  },
  {
   "cell_type": "code",
   "execution_count": null,
   "metadata": {},
   "outputs": [],
   "source": [
    "def down_sample_audio(input_file, M):\n",
    "    \"\"\"\n",
    "    Inputs:\n",
    "        input_file: file name of the wav file (including path)\n",
    "        M: downsampling factor (positive integer)\n",
    "    Outputs:\n",
    "        tuple with the input samples, original sampling rate, down-sampled signal and new sampling rate, \n",
    "        like: (x, fs, y, fs_new) \n",
    "    \"\"\"\n",
    "    ## Your code here\n"
   ]
  },
  {
   "cell_type": "markdown",
   "metadata": {},
   "source": [
    "You can run and test `down_sample_audio()` using these two test cases:\n",
    "\n",
    "_Test Case 1:_ Use the file from the sounds directory `vibraphone-C6.wav` and a downsampling factor of `M=14`.\n",
    "\n",
    "_Test Case 2:_ Use the  file from the sounds directory `sawtooth-440.wav` and a downsampling factor of `M=14`.\n",
    "\n",
    "To play the output samples, import the `Ipython.display` package and use `ipd.display(ipd.Audio(data=y, rate=fs_new))`. To visualize the output samples import the `matplotlib.pyplot` package and use `plt.plot(x)`.\n",
    "\n",
    "Play and compare the input and output sounds. What happened to the output signals compared to the input ones? Is there a difference between the 2 cases? Why? How could we avoid damaging the signal when downsampling it?\n",
    "\n",
    "Write a short response to these questions in the cell below.\n",
    "\n",
    "You can find some related information in https://en.wikipedia.org/wiki/Downsampling_(signal_processing)"
   ]
  },
  {
   "cell_type": "code",
   "execution_count": null,
   "metadata": {},
   "outputs": [],
   "source": [
    "import IPython.display as ipd\n",
    "import matplotlib.pyplot as plt"
   ]
  },
  {
   "cell_type": "code",
   "execution_count": null,
   "metadata": {},
   "outputs": [],
   "source": [
    "# implement case 1\n",
    "### your code here\n"
   ]
  },
  {
   "cell_type": "code",
   "execution_count": null,
   "metadata": {},
   "outputs": [],
   "source": [
    "# implement case 2\n",
    "### your code here\n"
   ]
  },
  {
   "cell_type": "markdown",
   "metadata": {},
   "source": [
    "## Your explanation for Part 4 here\n",
    "\n"
   ]
  }
 ],
 "metadata": {
  "kernelspec": {
   "display_name": "Python 3",
   "language": "python",
   "name": "python3"
  },
  "language_info": {
   "codemirror_mode": {
    "name": "ipython",
    "version": 3
   },
   "file_extension": ".py",
   "mimetype": "text/x-python",
   "name": "python",
   "nbconvert_exporter": "python",
   "pygments_lexer": "ipython3",
   "version": "3.5.2"
  }
 },
 "nbformat": 4,
 "nbformat_minor": 2
}
