{
 "cells": [
  {
   "cell_type": "markdown",
   "metadata": {},
   "source": [
    "# Exercise 3: Fourier properties\n",
    "\n",
    "With this exercise you will get a better understanding of some of the Fourier theorems and of some useful properties of the DFT. You will write code to implement and verify several properties of the DFT that are discussed in the lectures. You will also learn to use the `dftModel.py` module of sms-tools, which contains the basic python functions implementing the DFT. There are five parts in the exercise: 1) Minimize energy spread in DFT of sinusoids, 2) Optimal zero-padding, 3) Symmetry properties of the DFT, 4) Suppressing frequency components using DFT model, and 5) FFT size and zero-padding. \n",
    "\n",
    "### Relevant Concepts\n",
    "\n",
    "__DFT of sinusoids:__ When a real sinusoid has an integer number of cycles in $N$ samples, the frequency of the sinusoid exactly matches one of the bin frequencies in an $N$ point DFT. Hence the DFT spectrum of the sinusoid has a value of zero at every DFT bin except at the two bins that match the frequency of the sinusoid. Otherwise, the energy of the sinusoid is spread over all the bins. When there are multiple sinusoids, the equations extend to each sinusoid. \n",
    "\n",
    "\\begin{eqnarray}\n",
    " x[n]&=&A_{0}\\cos\\left(2\\pi k_{0}n/N\\right)=\\frac{A_{0}}{2}{\\textstyle e}^{j2\\pi k_{0}n/N}+\\frac{A_{0}}{2}{\\textstyle e}^{-j2\\pi k_{0}n/N}\\\\\n",
    " X[k] &=& \\frac{A_0}{2} \\,\\,\\, \\mathrm{for} \\,\\,\\, k = k_0, -k_0; \\,\\,\\,\\, 0 \\,\\,\\,\\mathrm{otherwise}\n",
    "\\end{eqnarray}\n",
    "\n",
    "__Zero-padding:__ Zero-padding a signal is done by adding zeros at the end of the signal. If we perform zero-padding to a signal before computing its DFT, the resulting spectrum will be an interpolated version of the spectrum of the original signal.  In most implementations of the DFT (including the FFT algorithms) when the DFT size is larger than the length of the signal, zero-padding is implicitly done. \n",
    "\n",
    "__Zero phase windowing:__ Zero phase windowing of a frame of a signal puts the centre of the signal at the zero time index for DFT computation. By moving the centre of the frame to zero index by a circular shift, the computed DFT will not have the phase offset which would have otherwise been introduced (recall that a shift of the signal causes the DFT to be multiplied by a complex exponential, which keeps the magnitude spectrum intact but changes the phase spectrum). When used in conjunction with zero-padding, zero phase windowing is also useful for the creation of a frame of length of power of 2 for FFT computation (`fftbuffer`). \n",
    "\n",
    "If the length of the signal $x$ is $M$ and the required DFT size is $N$, the zero phase windowed version of the signal, `dftbuffer`, for DFT computation can be obtained by (works for both even and odd $M$): \n",
    "\n",
    "    hM1 = floor((M+1)/2)\n",
    "    hM2 = floor(M/2)\n",
    "    dftbuffer = zeros(N)\n",
    "    dftbuffer[:hM1] = x[hM2:]                              \n",
    "    dftbuffer[-hM2:] = x[:hM2]\n",
    "\n",
    "__Real, even and odd signals:__ A signal is real when it does not have any imaginary component, and all sounds are real signals. A signal $x$ is even if $x[n] = x[-n]$, and odd if $x[n] = -x[-n]$. For a signal of length $M$ (and $M$ is odd), in the context of a zero phase windowed signal and its DFT, the signal is even if $x[n] = x[M-n]$ and odd if $x[n] = -x[M-n]$, $1 \\leq n \\leq M-1$. The DFT properties show that for real input signals, the magnitude spectrum is even and the phase spectrum is odd. Furthermore, when the input signal is both real and even, the DFT is real valued, with an even magnitude spectrum and imaginary component equal to zero. In summary, if $x$ is an input signal of length $M$ ($M$ is odd) and $X = \\mathrm{DFT}(x,M)$, then for $1 \\leq k \\leq M-1$\n",
    "\n",
    "If $x$ is real, $\\left|X[k]\\right| = \\left|X[M-k]\\right|$ and $\\boldsymbol{<}\\!X[k] = -\\boldsymbol{<}\\!X[M-k]$\n",
    "\n",
    "If $x$ is real and even, $\\left|X[k]\\right| = \\left|X[M-k]\\right|$ and $\\mathrm{imag}(X[k]) = 0$\n",
    "\n",
    "\n",
    "__Positive half of the DFT spectrum:__ Audio signals are real signals. Due to the symmetry properties of the DFT of a real signal, it is sufficient to store only one half of the magnitude and phase spectra. To save on both storage and computation, we will just store just the half spectrum when possible. \n",
    "\n",
    "From an $N$ point DFT ($N$ even), we can obtain the positive half of the spectrum by considering only the first $(N/2)+1$ samples of the DFT. We can compute the magnitude spectrum of the positive half (in dB) as $m_X = 20\\log_{10}\\left|X[0:(N/2)+1]\\right|$, where $X$ is the DFT of the input. \n",
    "\n",
    "__Filtering:__ Filtering involves selectively suppressing certain frequencies present in the signal. Filtering is often performed in the time domain by the convolution of the input signal with the impulse response of a filter. The same operation can also be done in the DFT domain using the properties of DFT, by multiplying the DFT of the input signal by the DFT of the impulse response of the filter. In this assignment, we will consider a very simple illustrative filter that suppresses some frequency components by setting some DFT coefficients to zero. It is to be noted that the convolution operation here is circular convolution with a period $N$, the size of the DFT. \n",
    "\n",
    "If $x_1[n] \\Leftrightarrow X_1[k]$ and $x_2[n] \\Leftrightarrow X_2[k]$, $x_1[n] * x_2[n] \\Longleftrightarrow X_1[k]\\,X_2[k]$"
   ]
  },
  {
   "cell_type": "markdown",
   "metadata": {},
   "source": [
    "\n",
    "## Part 1 - Minimize energy spread in DFT of sinusoids\n",
    "\n",
    "Given an input signal consisting of two sinusoids, complete the function `minimize_energy_spread_dft()` to select the first `M` samples from the signal and return the positive half of the DFT magnitude spectrum (in dB), such that it has only two non-zero values. \n",
    "\n",
    "`M` is to be calculated as the smallest positive integer for which the positive half of the DFT magnitude spectrum has only two non-zero values. To get the positive half of the spectrum, first compute the `M` point DFT of the input signal (for this you can use the `fft()` function of `scipy.fftpack`). Consider only the first `(M/2)+1` samples of the DFT, computing the magnitude spectrum of the positive half (in dB) as `mX = 20*log10(abs(X[:M/2+1]))`, where `X` is the DFT of the input signal.\n",
    "\n",
    "The input arguments to this function are the input signal `x` (of length W >= M) consisting of two sinusoids of frequency `f1` and `f2`, the sampling frequency `fs` and the value of frequencies `f1` and `f2`. The function should return the positive half of the magnitude spectrum `mX`. For this question, you can assume the input frequencies `f1` and `f2` to be positive integers and factors of `fs`, and that `M` is even. \n",
    "\n",
    "Due to the precision of the FFT computation, the zero values of the DFT are not zero but very small values < 1e-12 (or -240 dB) in magnitude. For practical purposes, all values with absolute value less than 1e-6 (or -120 dB) can be considered to be zero. \n",
    "\n",
    "HINT: The DFT magnitude spectrum of a sinusoid has only one non-zero value (in the positive half of the DFT spectrum) when its frequency coincides with one of the DFT bin frequencies. This happens when the DFT size (`M` in this question) contains exactly an integer number of periods of the sinusoid. Since the signal in this question consists of two sinusoids, this condition should hold true for each of the sinusoids, so that the DFT magnitude spectrum has only two non-zero values, one per sinusoid. \n",
    "\n",
    "`M` can be computed as the Least Common Multiple (LCM) of the sinusoid periods (in samples). The LCM of two numbers `x`, `y` can be computed as: `x*y/gcd(x,y)`, where gcd denotes the greatest common divisor."
   ]
  },
  {
   "cell_type": "code",
   "execution_count": null,
   "metadata": {},
   "outputs": [],
   "source": [
    "from scipy.fftpack import fft, fftshift\n",
    "import numpy as np\n",
    "from math import gcd, ceil, floor\n",
    "import sys\n",
    "sys.path.append('../software/models/')\n",
    "from dftModel import dftAnal, dftSynth\n",
    "from scipy.signal import get_window\n",
    "import matplotlib.pyplot as plt"
   ]
  },
  {
   "cell_type": "code",
   "execution_count": null,
   "metadata": {},
   "outputs": [],
   "source": [
    "def minimize_energy_spread_dft(x, fs, f1, f2):\n",
    "    \"\"\"\n",
    "    Inputs:\n",
    "        x (numpy array) = input signal \n",
    "        fs (float) = sampling frequency in Hz\n",
    "        f1 (float) = frequency of first sinusoid component in Hz\n",
    "        f2 (float) = frequency of second sinusoid component in Hz\n",
    "    Output:\n",
    "        positive half of DFT spectrum (in dB) (numpy array) \n",
    "    \"\"\"\n",
    "    ## Your code here\n",
    "\n"
   ]
  },
  {
   "cell_type": "markdown",
   "metadata": {},
   "source": [
    "Run and test the function `minimize_energy_spread_dft()`. Plot the output spectrum to validate the result. Here are two possible examples to use.\n",
    "\n",
    "_Test case 1:_ For an input signal `x` sampled at `fs = 10000`Hz that consists of sinusoids of frequencies `f1 = 80`Hz and `f2 = 200`Hz, you need to select `M = 250` samples of the signal to meet the required condition. In this case, output `mX` is 126 samples in length and has non-zero values at bin indices 2 and 5 (corresponding to the frequency values of 80 and 200 Hz, respectively). You can create a test signal `x` by generating and adding two sinusoids of the given frequencies.\n",
    "\n",
    "_Test case 2:_ For an input signal `x` sampled at `fs = 48000` Hz that consists of sinusoids of frequencies `f1 = 300`Hz and `f2 = 800`Hz, you need to select `M = 480` samples of the signal to meet the required condition. In this case, output `mX` is 241 samples in length and has non-zero values at bin indices 3 and 8 (corresponding to the frequency values of 300 and 800 Hz, respectively). You can create a test signal `x` by generating and adding two sinusoids of the given frequencies."
   ]
  },
  {
   "cell_type": "code",
   "execution_count": null,
   "metadata": {},
   "outputs": [],
   "source": [
    "## Your code here\n",
    "\n"
   ]
  },
  {
   "cell_type": "markdown",
   "metadata": {},
   "source": [
    "## Part 2 - Optimal zero-padding\n",
    "\n",
    "Given a sinusoid, complete the function `optimal_zeropad()` to compute the DFT of the sinusoid after zero-padding and return the positive half of the magnitude spectrum (in dB). Zero-padding needs to be done such that one of the bin frequencies of the DFT coincides with the frequency of the sinusoid. Choose the minimum zero-padding length for which this condition is satisfied. \n",
    "\n",
    "The input arguments are the sinusoid `x` of length `M`, sampling frequency `fs` and the frequency of the sinusoid `f`. The output is the positive half of the magnitude spectrum `mX` computed using the `N` point DFT `(N >= M)` of `x` after zero-padding `x` to length `N` appropriately as required. \n",
    "\n",
    "To get the positive half of the spectrum, first compute the `N` point DFT of the zero-padded input signal (for this you can use the `fft()` function of `scipy.fftpack`, which is already imported in this script). Consider only the first `(N/2)+1` samples of the DFT and compute the magnitude spectrum of the positive half (in dB) as `mX = 20*log10(abs(X[:(N/2)+1]))`, where `X` is the `N` point DFT of the zero-padded input.\n",
    "\n",
    "For this exercise, you can assume that the frequency of the sinusoid `f` is a positive integer and a factor of the sampling rate `fs`. The input parameters will be given in such a way that `N` will be even.  Note that the numerical value of `f` is an integer but the data type is float, for example 1.0, 2.0, 55.0 etc. This is to avoid issues in python related with division by a integer.\n",
    "\n",
    "Due to the precision of the FFT computation, the zero values of the DFT are not zero but very small values < 1e-12 (or -240 dB) in magnitude. For practical purposes, all values with absolute value less than 1e-6 (or -120 dB) can be considered to be zero. \n",
    "\n",
    "HINT: One of the DFT bin frequencies coincides with the frequency `f` of a sinusoid when the DFT size (`N` in this question) contains exactly an integer number of periods of the sinusoid. For example, if `f = 100` Hz and `fs = 1000` Hz, one period of the sinusoid has 10 samples. Then given a signal of length `M = 25` samples, there are 2.5 periods in it. The minimum zero-padding length here would be 5 samples (0.5 period), so that the DFT size `N = 30` corresponds to 3 periods of a sinusoid of frequency `f=100` Hz."
   ]
  },
  {
   "cell_type": "code",
   "execution_count": null,
   "metadata": {},
   "outputs": [],
   "source": [
    "def optimal_zeropad(x, fs, f):\n",
    "    \"\"\"\n",
    "    Inputs:\n",
    "        x (numpy array) = input signal of length M\n",
    "        fs (float) = sampling frequency in Hz\n",
    "        f (float) = frequency of sinusoid in Hz\n",
    "    Output:\n",
    "        positive half of DFT spectrum of N point DFT after zero-padding (numpy array)\n",
    "    \"\"\"\n",
    "    ## Your code here\n",
    "    \n",
    "    T = fs/f\n",
    "    M = len(x)\n",
    "    N = int(T*ceil(M/T))\n",
    "    xw = np.concatenate((x,np.zeros(N-M)),axis = 0)\n",
    "    X = fft(x)\n",
    "    return 20*np.log10(abs(X[:int(N/2+1)]))"
   ]
  },
  {
   "cell_type": "markdown",
   "metadata": {},
   "source": [
    "Run and test the function `optimal_zeropad()`, validating the result by ploting the output array. Here are two possible examples.\n",
    "\n",
    "_Test case 1:_ For a sinusoid `x` with `f = 100.0` Hz, `M = 25` samples and `fs = 1000.0` Hz, you will need to zero-pad by 5 samples and compute an `N = 30` point DFT. In the magnitude spectrum, you can see a maximum value at bin index 3 corresponding to the frequency of 100 Hz. The output array you return is 16 samples in length. \n",
    "\n",
    "_Test case 2:_ For a sinusoid `x` with `f = 250.0` Hz, `M = 210` samples and `fs = 10000.0` Hz, you will need to zero-pad by 30 samples and compute an `N = 240` point DFT. In the magnitude spectrum, you can see a maximum value at bin index 6 corresponding to the frequency of 250 Hz. The output array you return is 121 samples in length. "
   ]
  },
  {
   "cell_type": "code",
   "execution_count": null,
   "metadata": {},
   "outputs": [],
   "source": [
    "## Your code here\n"
   ]
  },
  {
   "cell_type": "markdown",
   "metadata": {},
   "source": [
    "## Part 3 - Symmetry properties of the DFT\n",
    "\n",
    "Complete the function `test_real_even()` a function to check if the input signal is real and even using the symmetry properties of its DFT. The function will return the result of this test, the zerophase windowed version of the input signal (`dftbuffer`), and its DFT. \n",
    "\n",
    "Given an input signal `x` of length `M`, do a zero phase windowing of `x` without any zero-padding. Then compute the `M` point DFT of the zero phase windowed signal and use the symmetry of the computed DFT to test if the input signal `x` is real and even. Return the result of the test, the `dftbuffer` computed, and the DFT of the `dftbuffer`. \n",
    "\n",
    "The input argument is a signal `x` of length `M`. The output is a tuple with three elements \n",
    "`(isRealEven, dftbuffer, X)`, where `isRealEven` is a boolean variable which is `True` if `x` is real and even, else `False`. `dftbuffer` is the `M` length zero phase windowed version of `x`. `X` is the `M` point DFT of the `dftbuffer`. \n",
    "\n",
    "To make the problem easier, we will use odd length input sequence in this question (`M` is odd). \n",
    "\n",
    "Due to the precision of the FFT computation, the zero values of the DFT are not zero but very small values < 1e-12 in magnitude. For practical purposes, all values with absolute value less than 1e-6 can be considered to be zero. Use an error tolerance of 1e-6 to compare if two floating point arrays are equal. \n",
    "\n",
    "Caveat: Use the imaginary part of the spectrum instead of the phase to check if the input signal is real and even."
   ]
  },
  {
   "cell_type": "code",
   "execution_count": null,
   "metadata": {},
   "outputs": [],
   "source": [
    "def test_real_even(x):\n",
    "    \"\"\"\n",
    "    Inputs:\n",
    "        x (numpy array)= input signal of length M (M is odd)\n",
    "    Output:\n",
    "        tuple including:\n",
    "        isRealEven (boolean) = True if input x is real and even, and False otherwise\n",
    "        dftbuffer (numpy array, possibly complex) = M point zero phase windowed version of x \n",
    "        X (numpy array, possibly complex) = M point DFT of dftbuffer \n",
    "    \"\"\"\n",
    "    ## Your code here\n"
   ]
  },
  {
   "cell_type": "markdown",
   "metadata": {},
   "source": [
    "Run and test the function `test_real_evenI ()`. Here are two possible examples.\n",
    "\n",
    "_Test case 1:_ If `x = np.array([ 2, 3, 4, 3, 2 ])`, which is a real and even signal (after zero phase windowing), the function returns \n",
    "\n",
    "```\n",
    "(True, array([ 4., 3., 2., 2., 3.]), array([14.0000+0.j, 2.6180+0.j, \n",
    "0.3820+0.j, 0.3820+0.j, 2.6180+0.j])) (values are approximate)\n",
    "```\n",
    "\n",
    "_Test case 2:_ If `x = np.array([1, 2, 3, 4, 1, 2, 3])`, which is not an even signal (after zero phase windowing), the function returns \n",
    "\n",
    "```\n",
    "(False,  array([ 4.,  1.,  2.,  3.,  1.,  2.,  3.]), array([ 16.+0.j, \n",
    "2.+0.69j, 2.+3.51j, 2.-1.08j, 2.+1.08j, 2.-3.51j, 2.-0.69j])) (values are approximate)\n",
    "```\n",
    "\n",
    "To get a more realistic example use a longer input signal and plot the real and imaginary parts of the output spectrum `X`. For example, use `x = get_window('hanning', 51, fftbins=False)`, which is real an even, and plot `x`and the real and imaginary part of the spectrum `X`.\n"
   ]
  },
  {
   "cell_type": "code",
   "execution_count": null,
   "metadata": {},
   "outputs": [],
   "source": [
    "## Your code here\n"
   ]
  },
  {
   "cell_type": "markdown",
   "metadata": {},
   "source": [
    "## Part 4 - Suppressing frequency components using DFT model\n",
    "\n",
    "Given a signal as input, complete the function `supress_freq_dft_model()` to suppress the frequency components <= 70Hz using the DFT. Return the filtered signal in the time domain.\n",
    "\n",
    "Use the DFT to implement a very basic form of frequency domain filtering. Use the functions `dftAnal()` and `dftSynth()` provided in the `dftModel.py` module. \n",
    "\n",
    "Use `dftAnal()` to obtain the magnitude spectrum (in dB) and phase spectrum of the audio signal. Set the values of the magnitude spectrum that correspond to frequencies <= 70 Hz to -120dB (there may not be a bin corresponding exactly to 70Hz, choose the nearest bin of equal or higher frequency, e.g., using `np.ceil()`).\n",
    "\n",
    "Use `dftSynth()` to synthesize the filtered output signal. Then return the filtered signal. \n",
    "\n",
    "Use a hamming window to smooth the signal. Hence, do not forget to scale the output signals by the sum of the window values (as done in `software/models_interface/dftModel_function.py`).  \n",
    "\n",
    "Please note that this question is just for illustrative purposes and filtering is not usually done this way - such sharp cutoffs introduce artifacts in the output. \n",
    "\n",
    "The input is a `M` length signal `x`, sampling frequency is `fs` and the FFT size `N`. The output is the filtered signal."
   ]
  },
  {
   "cell_type": "code",
   "execution_count": null,
   "metadata": {},
   "outputs": [],
   "source": [
    "def suppress_freq_dft_model(x, fs, N):\n",
    "    \"\"\"\n",
    "    Inputs:\n",
    "        x (numpy array) = input signal of length N (odd)\n",
    "        fs (float) = sampling frequency (Hz)\n",
    "        N (positive integer) = FFT size\n",
    "    Outputs:\n",
    "       output signal with filtering (N samples long) (numpy array) \n",
    "    \"\"\"\n",
    "    N = len(x)\n",
    "    w = get_window('hamming', N)\n",
    "    outputScaleFactor = sum(w)\n",
    "    \n",
    "    ## Your code here\n"
   ]
  },
  {
   "cell_type": "markdown",
   "metadata": {},
   "source": [
    "Run and test the function `suppress_freq_dft_model()`. Plot the spectrum of the output over the spectrum of the input signals to validate the result. Here are two possible examples to try.\n",
    "\n",
    "_Test case 1:_ For an input signal with 40Hz, 100Hz, 200Hz, 1000Hz components, the output should only contain 100Hz, 200Hz and 1000Hz components. \n",
    "\n",
    "_Test case 2:_ For an input signal with 23Hz, 36Hz, 230Hz, 900Hz, 2300Hz components, the output should only contain 230Hz, 900Hz and 2300Hz components. \n",
    "\n",
    "To understand the effect of filtering, you can plot the magnitude spectra of the input and output signals superposed."
   ]
  },
  {
   "cell_type": "code",
   "execution_count": null,
   "metadata": {},
   "outputs": [],
   "source": [
    "## Your code here\n"
   ]
  },
  {
   "cell_type": "markdown",
   "metadata": {},
   "source": [
    "## Part 5 - Window-size, FFT-size and zero-padding\n",
    "\n",
    "Complete the function `zp_fft_size_expt()`to take an input signal, compute three different magnitude spectra (with different parameters) and return them. \n",
    "\n",
    "This function should provide some insights into the effects window-size, FFT-size, and zero-padding on the spectrum of a signal. \n",
    "\n",
    "Te input signal should be of size 512 samples, the sampling rate should be 1000Hz, and the analysis window used should be hamming. The three set of analysis parameters should be:\n",
    "\n",
    "1. window-size = 256, FFT-size = 256 (no zero-padding)\n",
    "2. window-size = 512, FFT-size = 512 (no zero-padding)\n",
    "2. window-size = 256, FFT-size = 512 (zero-padding of 256 samples)\n",
    "\n",
    "Use `dftAnal()` to obtain the positive half of the magnitude spectrum (in dB). Return the 3 magnitude spectra in dB. \n"
   ]
  },
  {
   "cell_type": "code",
   "execution_count": null,
   "metadata": {},
   "outputs": [],
   "source": [
    "def zp_fft_size_expt(x):\n",
    "    \"\"\"\n",
    "    Inputs:\n",
    "        x (numpy array) = input signal (512 samples long)\n",
    "    Output:\n",
    "        magnitude spectrum with window-size = 256, FFT-size = 256 (numpy array) \n",
    "        magnitude spectrum with window-size = 512, FFT-size = 512 (numpy array) \n",
    "        magnitude spectrum with window-size = 256, FFT-size = 512 (numpy array) \n",
    "    \"\"\"\n",
    "    \n",
    "    N = len(x)    # should be 512 \n",
    "    w1 = get_window('hamming', N)\n",
    "    w2 = get_window('hamming', N//2)\n",
    "    \n",
    "    ## Your code here \n"
   ]
  },
  {
   "cell_type": "markdown",
   "metadata": {},
   "source": [
    "Run and test the function `zp_fft_size_expt()`. Plot the outputs to understand and validate the results. Here is one possible example.\n",
    "\n",
    "_Test case 1:_ Use as input `x = .2*np.cos(2*np.pi*300*n)+.2*np.cos(2*np.pi*600*n)` where `n=np.arange(512)/fs` and the sampling rate `fs=1000`. Call the function with `mX1, mX2, mX3 = zp_fft_size_expt(x)`\n",
    "\n",
    "To understand better, plot the output of `dftAnal()` for each case on a common frequency axis with different colors. You will see that `mX3` is the interpolated version of `mX1` (zero-padding leads to interpolation of the DFT). You will also observe that the 'mainlobe' of the magnitude spectrum in `mX2` will be narrower than that in `mX1` and \n",
    "`mX3`. This shows that having a longer window leads to a narrower mainlobe with better frequency resolution and less spreading of the energy of the sinusoid. \n",
    "\n",
    "If we were to estimate the frequency of the sinusoid using its DFT, a first principles approach is to choose the frequency value of the bin corresponding to the maximum in the DFT magnitude spectrum. If you were to take this approach, which of the magnitude spectra will give you a better estimate of the frequency of the sinusoid? Comment and discuss."
   ]
  },
  {
   "cell_type": "code",
   "execution_count": null,
   "metadata": {},
   "outputs": [],
   "source": [
    "## Your code here\n"
   ]
  },
  {
   "cell_type": "markdown",
   "metadata": {},
   "source": [
    "## Your explanation for Part 5 here\n"
   ]
  }
 ],
 "metadata": {
  "kernelspec": {
   "display_name": "Python 3",
   "language": "python",
   "name": "python3"
  },
  "language_info": {
   "codemirror_mode": {
    "name": "ipython",
    "version": 3
   },
   "file_extension": ".py",
   "mimetype": "text/x-python",
   "name": "python",
   "nbconvert_exporter": "python",
   "pygments_lexer": "ipython3",
   "version": "3.5.2"
  }
 },
 "nbformat": 4,
 "nbformat_minor": 2
}
