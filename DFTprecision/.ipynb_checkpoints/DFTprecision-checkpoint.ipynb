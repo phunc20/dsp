{
 "cells": [
  {
   "cell_type": "markdown",
   "metadata": {},
   "source": [
    "# The DFT: Numerical Aspects\n",
    "\n",
    "In this notebook we will look at some numerical issues associated to the DFT; in particular we we will look at the differences in precision between the \"naive\" way of computing the DFT and the FFT algorithm.\n",
    " \n",
    "As a quick reminder, the definitions of the direct and inverse DFT for a length-$N$ signal are:\n",
    "\n",
    "\\begin{align*}\n",
    "    X[k] &= \\sum_{n=0}^{N-1} x[n]\\, e^{-j\\frac{2\\pi}{N}nk}, \\quad k=0, \\ldots, N-1 \\\\\n",
    "    x[n] &= \\frac{1}{N}\\sum_{k=0}^{N-1} X[k]\\, e^{j\\frac{2\\pi}{N}nk}, \\quad n=0, \\ldots, N-1\n",
    "\\end{align*}\n",
    "\n",
    "The DFT produces a complex-valued vector that we can represent either via its real and imaginary parts or via its magnitude $|X[k]|$ and phase $\\angle X[k] = \\arctan \\frac{\\text{Im}\\{X[k]\\}}{\\text{Re}\\{X[k]\\}}$."
   ]
  },
  {
   "cell_type": "markdown",
   "metadata": {},
   "source": [
    "## Direct Implementation\n",
    "\n",
    "### Numerical errors in real and imaginary parts\n",
    "\n",
    "The DFT can be easily implemented using the change of basis matrix ${W}_N$. This is an $N\\times N$ complex-valued matrix whose elements are \n",
    "\n",
    "$$\n",
    "    {W}_N(n,k)=e^{-j\\frac{2\\pi}{N}nk}\n",
    "$$\n",
    "\n",
    "so that the DFT of a vector $\\mathbf{x}$ is simply $\\mathbf{X} = W_N\\mathbf{x}$. Note that the inverse DFT can be obtained by simply conjugating ${W}_N$ so that $\\mathbf{x} = W_N^*\\mathbf{X}$.\n",
    "\n",
    "We can easily generate the matrix ${W}_N$ in Python like so:"
   ]
  },
  {
   "cell_type": "code",
   "execution_count": 1,
   "metadata": {
    "collapsed": false
   },
   "outputs": [
    {
     "name": "stdout",
     "output_type": "stream",
     "text": [
      "Populating the interactive namespace from numpy and matplotlib\n"
     ]
    }
   ],
   "source": [
    "# first our usual bookkeeping\n",
    "%pylab inline\n",
    "import matplotlib\n",
    "import matplotlib.pyplot as plt\n",
    "import numpy as np"
   ]
  },
  {
   "cell_type": "code",
   "execution_count": 3,
   "metadata": {
    "collapsed": false
   },
   "outputs": [],
   "source": [
    "def dft_matrix(N):\n",
    "    # create a 1xN matrix containing indices 0 to N-1\n",
    "    a = np.expand_dims(np.arange(N), 0)\n",
    "    \n",
    "    # take advantage of numpy broadcasting to create the matrix\n",
    "    W = np.exp(-2j * (np.pi / N) * (a.T * a))\n",
    "    \n",
    "    return W"
   ]
  },
  {
   "cell_type": "markdown",
   "metadata": {},
   "source": [
    "Let's try it out on a short signal and verify the invertibility of the transform"
   ]
  },
  {
   "cell_type": "code",
   "execution_count": 12,
   "metadata": {
    "collapsed": false
   },
   "outputs": [
    {
     "name": "stdout",
     "output_type": "stream",
     "text": [
      "[ -8.88178420e-16 +3.25665421e-15j   0.00000000e+00 +3.70074342e-17j\n",
      "   0.00000000e+00 -1.77635684e-15j]\n"
     ]
    }
   ],
   "source": [
    "x = np.array([5, 7, 9])\n",
    "\n",
    "# DFT matrix\n",
    "N = len(x)\n",
    "W = dft_matrix(N);\n",
    "\n",
    "# DFT\n",
    "X = np.dot(W, x)\n",
    "# inverse DFT\n",
    "x_hat = np.dot(W.T.conjugate(), X) / N\n",
    "\n",
    "print x-x_hat"
   ]
  },
  {
   "cell_type": "markdown",
   "metadata": {},
   "source": [
    "As you can see, the difference between the original vector and the \"reconstructed\" vector is not exactly zero. This is due to the small numerical errors that accumulate in the $N^2$ multiplications and additions needed by the direct and inverse transforms. \n",
    "\n",
    "While minor in this case, this numerical imprecision can be very annoying if we switch to a magnitude/phase representation, as we will see now. "
   ]
  },
  {
   "cell_type": "markdown",
   "metadata": {},
   "source": [
    "### Numerical errors in phase\n",
    "\n",
    "Let's first define a more interesting signal such as a length-128 step signal: \n",
    "\n",
    "$$\n",
    "    x[n] = \\begin{cases}\n",
    "            1 & \\mbox{for $0 \\leq n < 64$} \\\\\n",
    "            0 & \\mbox{for $64 \\leq n < 128$}\n",
    "        \\end{cases}\n",
    "$$\n",
    "\n",
    "Conveniently, we can compute its DFT analytically (it's just a geometric series) and we have \n",
    "\n",
    "$$\n",
    "    X[k] = \\begin{cases}\n",
    "            64 & \\mbox{for $k=0$} \\\\\n",
    "            0 & \\mbox{for $k \\neq 0$, $k$ even} \\\\\n",
    "            \\frac{(-1)^{(k-1)/2}\\,e^{-j\\pi\\frac{63}{128}k}}{\\sin(\\frac{\\pi}{128}k)} & \\mbox{for $k$ odd}\n",
    "        \\end{cases}\n",
    "$$\n",
    "\n",
    "From this it's easy to compute the phase; we will set its value to zero whenever the magnitude is zero (i.e. for even-indexed values) and we have\n",
    "\n",
    "$$\n",
    "    \\angle X[k] = \\begin{cases}\n",
    "            0 & \\mbox{for $k$ even} \\\\\n",
    "            -\\pi + \\frac{\\pi}{128}k & \\mbox{for $k$ odd}\n",
    "        \\end{cases}\n",
    "$$\n",
    "\n",
    "However, let's see what happens if we compute all of this numerically:"
   ]
  },
  {
   "cell_type": "code",
   "execution_count": null,
   "metadata": {
    "collapsed": false
   },
   "outputs": [],
   "source": [
    "N = 128\n",
    "x = np.zeros(N)\n",
    "x[0:64] = 1\n",
    "\n",
    "plt.stem(x);"
   ]
  },
  {
   "cell_type": "code",
   "execution_count": null,
   "metadata": {
    "collapsed": false
   },
   "outputs": [],
   "source": [
    "W = dft_matrix(N);\n",
    "\n",
    "# DFT\n",
    "X = np.dot(W, x)\n",
    "plt.stem(abs(X));\n",
    "show();\n",
    "\n",
    "plt.stem(np.angle(X));"
   ]
  },
  {
   "cell_type": "markdown",
   "metadata": {},
   "source": [
    "Clearly we have a problem with the phase, although the magnitude looks nice. This is inherent to the fact that the phase is computed by taking the arctangent of a ratio. When the computed DFT values are close to zero, the denominator of the ratio will be also close to zero and any numerical error in its value will lead to large errors in the phase. As we will see in the next section, this problem can be alleviated by using smarter algorithms than the direct naive method.\n",
    "\n",
    "Let's still verify the inverse DFT:"
   ]
  },
  {
   "cell_type": "code",
   "execution_count": null,
   "metadata": {
    "collapsed": false
   },
   "outputs": [],
   "source": [
    "x_hat = np.dot(W.T.conjugate(), X) / N\n",
    "\n",
    "plt.stem(np.real(x_hat - x));\n",
    "show();\n",
    "plt.stem(np.imag(x_hat));"
   ]
  },
  {
   "cell_type": "markdown",
   "metadata": {},
   "source": [
    "Again, the error is very small but clearly not zero."
   ]
  },
  {
   "cell_type": "markdown",
   "metadata": {},
   "source": [
    "## The FFT Algorithm\n",
    "\n",
    "The FFT algorithm computes the DFT recursively by successively splitting the data vector into smaller pieces and recombining the results. The most well-known version of the FFT operates on data lengths that are a power of two but efficient algorithms exist for all lengths that are factorizable into powers of small primes. \n",
    "\n",
    "The FFT algorithm is not only much faster than the direct method but it's also better conditioned numerically. This is because in the FFT implementation great care is applied to minimizing the number of trigonometric factors.\n",
    "\n",
    "As you can see in the examples below, the phase is now accurate and the reconstruction error is almost two orders of magnitude smaller, basically equal to the numerical precision of floating point variables. "
   ]
  },
  {
   "cell_type": "code",
   "execution_count": null,
   "metadata": {
    "collapsed": false
   },
   "outputs": [],
   "source": [
    "X = np.fft.fft(x)\n",
    "x_hat = np.fft.ifft(X)\n",
    "\n",
    "plt.stem(np.angle(X));\n",
    "show();\n",
    "\n",
    "plt.stem(np.real(x_hat - x));\n",
    "show();\n",
    "\n",
    "plt.stem(np.imag(x_hat));"
   ]
  },
  {
   "cell_type": "code",
   "execution_count": null,
   "metadata": {
    "collapsed": true
   },
   "outputs": [],
   "source": []
  }
 ],
 "metadata": {
  "kernelspec": {
   "display_name": "Python 2",
   "language": "python",
   "name": "python2"
  },
  "language_info": {
   "codemirror_mode": {
    "name": "ipython",
    "version": 2
   },
   "file_extension": ".py",
   "mimetype": "text/x-python",
   "name": "python",
   "nbconvert_exporter": "python",
   "pygments_lexer": "ipython2",
   "version": "2.7.12"
  }
 },
 "nbformat": 4,
 "nbformat_minor": 0
}
